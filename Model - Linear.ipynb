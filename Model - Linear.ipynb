{
 "cells": [
  {
   "cell_type": "code",
   "execution_count": 18,
   "id": "54224e03-b4e5-43e2-82e5-57821f78fc72",
   "metadata": {},
   "outputs": [
    {
     "data": {
      "text/plain": [
       "{'divide': 'ignore', 'over': 'warn', 'under': 'ignore', 'invalid': 'warn'}"
      ]
     },
     "execution_count": 18,
     "metadata": {},
     "output_type": "execute_result"
    }
   ],
   "source": [
    "import numpy as np\n",
    "import pandas as pd\n",
    "import matplotlib.pyplot as plt\n",
    "from sklearn.linear_model import LinearRegression\n",
    "import deep_gravity_utils as dgu\n",
    "import torch\n",
    "import time\n",
    "\n",
    "np.seterr(divide='ignore')"
   ]
  },
  {
   "cell_type": "markdown",
   "id": "7f232b2d-9fe4-4d76-ac86-52fc9f667893",
   "metadata": {},
   "source": [
    "# Linear regression"
   ]
  },
  {
   "cell_type": "markdown",
   "id": "27340b6f-075c-45e1-b085-0bf2d65418ac",
   "metadata": {},
   "source": [
    "## Model formulation"
   ]
  },
  {
   "cell_type": "code",
   "execution_count": 19,
   "id": "43124815",
   "metadata": {},
   "outputs": [
    {
     "data": {
      "text/html": [
       "<div>\n",
       "<style scoped>\n",
       "    .dataframe tbody tr th:only-of-type {\n",
       "        vertical-align: middle;\n",
       "    }\n",
       "\n",
       "    .dataframe tbody tr th {\n",
       "        vertical-align: top;\n",
       "    }\n",
       "\n",
       "    .dataframe thead th {\n",
       "        text-align: right;\n",
       "    }\n",
       "</style>\n",
       "<table border=\"1\" class=\"dataframe\">\n",
       "  <thead>\n",
       "    <tr style=\"text-align: right;\">\n",
       "      <th></th>\n",
       "      <th>t_past</th>\n",
       "      <th>t_pre</th>\n",
       "      <th>prop</th>\n",
       "      <th>mask</th>\n",
       "      <th>year</th>\n",
       "    </tr>\n",
       "  </thead>\n",
       "  <tbody>\n",
       "    <tr>\n",
       "      <th>0</th>\n",
       "      <td>5</td>\n",
       "      <td>4</td>\n",
       "      <td>0.7</td>\n",
       "      <td>0</td>\n",
       "      <td>2019</td>\n",
       "    </tr>\n",
       "  </tbody>\n",
       "</table>\n",
       "</div>"
      ],
      "text/plain": [
       "   t_past  t_pre  prop  mask  year\n",
       "0       5      4   0.7     0  2019"
      ]
     },
     "execution_count": 19,
     "metadata": {},
     "output_type": "execute_result"
    }
   ],
   "source": [
    "config = pd.read_csv('config.csv', index_col=0)\n",
    "config"
   ]
  },
  {
   "cell_type": "code",
   "execution_count": 20,
   "id": "e35d513d-7f19-4711-81bf-ce3e4cc0e8f3",
   "metadata": {},
   "outputs": [
    {
     "data": {
      "text/plain": [
       "(48, 48, 720)"
      ]
     },
     "execution_count": 20,
     "metadata": {},
     "output_type": "execute_result"
    }
   ],
   "source": [
    "year = config.loc[0, 'year']\n",
    "year=2020\n",
    "OD = np.load('./data/3d_%i_30days.npy'%year)[:48, :48]\n",
    "OD.shape"
   ]
  },
  {
   "cell_type": "code",
   "execution_count": 21,
   "id": "d68afc5e-f19e-477d-8836-f5d76900a658",
   "metadata": {},
   "outputs": [
    {
     "name": "stdout",
     "output_type": "stream",
     "text": [
      "Memory occupied 113.9062 MB\n",
      "(9, 48, 48, 711)\n"
     ]
    }
   ],
   "source": [
    "t_past = config.loc[0, 't_past']\n",
    "t_pre = config.loc[0, 't_pre']\n",
    "t_past = 5\n",
    "t_pre = 4\n",
    "\n",
    "OD_4d = dgu.const_4d_OD(OD, t_past, t_pre)\n",
    "OD_4d = np.transpose(OD_4d, (1,2,3,0))\n",
    "print(OD_4d.shape)"
   ]
  },
  {
   "cell_type": "code",
   "execution_count": 22,
   "id": "f987187a",
   "metadata": {},
   "outputs": [
    {
     "name": "stdout",
     "output_type": "stream",
     "text": [
      "Shape of X: (5, 48, 48, 711)\n",
      "Shape of y: (4, 48, 48, 711)\n"
     ]
    }
   ],
   "source": [
    "X = OD_4d[:t_past, :, :, :]\n",
    "y = OD_4d[t_past:, :, :, :]\n",
    "\n",
    "print(f'Shape of X: {X.shape}')\n",
    "print(f'Shape of y: {y.shape}')"
   ]
  },
  {
   "cell_type": "code",
   "execution_count": 23,
   "id": "19de60be-1d27-4880-b933-d585c6b5524d",
   "metadata": {},
   "outputs": [
    {
     "name": "stdout",
     "output_type": "stream",
     "text": [
      "Shape of X_train: (1145088, 5)\n",
      "Shape of y_train: (1145088, 4)\n",
      "Shape of X_val: (493056, 5)\n",
      "Shape of y_val: (493056, 4)\n"
     ]
    }
   ],
   "source": [
    "prop = config.loc[0, 'prop']\n",
    "l = int(prop*X.shape[-1])\n",
    "\n",
    "X_train = X[:, :, :, :l].reshape(t_past, -1).T\n",
    "X_val = X[:, :, :, l:].reshape(t_past, -1).T\n",
    "y_train = y[:, :, :, :l].reshape(t_pre, -1).T\n",
    "y_val = y[:, :, :, l:].reshape(t_pre, -1).T\n",
    "\n",
    "print(f'Shape of X_train: {X_train.shape}')\n",
    "print(f'Shape of y_train: {y_train.shape}')\n",
    "\n",
    "print(f'Shape of X_val: {X_val.shape}')\n",
    "print(f'Shape of y_val: {y_val.shape}')\n"
   ]
  },
  {
   "cell_type": "code",
   "execution_count": 24,
   "id": "62c70aeb",
   "metadata": {},
   "outputs": [],
   "source": [
    "# device = torch.device(\"cuda\" if torch.cuda.is_available() else \"cpu\")\n",
    "# X_train = torch.tensor(X_train, dtype=torch.float32).to(device)\n",
    "# y_train = torch.tensor(y_train, dtype=torch.float32).to(device)"
   ]
  },
  {
   "cell_type": "code",
   "execution_count": 25,
   "id": "459163ee-6598-4e48-9660-b454ad558a4e",
   "metadata": {},
   "outputs": [
    {
     "name": "stdout",
     "output_type": "stream",
     "text": [
      "Time spent 0.29306697845458984 second\n"
     ]
    }
   ],
   "source": [
    "t_start = time.time()\n",
    "reg = LinearRegression().fit(X_train, y_train)\n",
    "print('Time spent', time.time()-t_start, 'second')\n",
    "# print(f'Coefficients =\\n{reg.coef_}\\n')\n",
    "# print(f'Intercepts = {reg.intercept_}\\n')\n",
    "# print(f'R^2 = {reg.score(X, y):.4f}')"
   ]
  },
  {
   "cell_type": "markdown",
   "id": "2d0ff16c-faea-4757-88b9-e40f2fb664da",
   "metadata": {},
   "source": [
    "## Evaluation"
   ]
  },
  {
   "cell_type": "code",
   "execution_count": 8,
   "id": "4c7b6d02-affe-4876-8839-3df0e1e99c79",
   "metadata": {},
   "outputs": [
    {
     "name": "stdout",
     "output_type": "stream",
     "text": [
      "The mae loss is 0.4783\n",
      "The mape loss is 0.6785\n",
      "The smape loss is 1.8401\n",
      "The nrmse loss is 0.0098\n",
      "The nmae loss is 0.0046\n",
      "CPC is 0.33377\n"
     ]
    },
    {
     "data": {
      "image/png": "[encoded data removed]",
      "text/plain": [
       "<Figure size 1440x432 with 1 Axes>"
      ]
     },
     "metadata": {
      "needs_background": "light"
     },
     "output_type": "display_data"
    }
   ],
   "source": [
    "pred = reg.predict(X_val)\n",
    "np.save('./res/%.1f/lr_%i.npy'%(prop, year), pred)\n",
    "np.save('./res/%.1f/labels_%i.npy'%(prop, year), y_val)\n",
    "\n",
    "m = config.loc[0, 'mask']\n",
    "\n",
    "print('The mae loss is %.4f'%dgu.mae_loss_func(pred, y_val, m))\n",
    "print('The mape loss is %.4f'%dgu.mape_loss_func(pred, y_val, m))\n",
    "print('The smape loss is %.4f'%dgu.smape_loss_func(pred, y_val, m))\n",
    "print('The nrmse loss is %.4f'%dgu.nrmse_loss_func(pred, y_val, m))\n",
    "print('The nmae loss is %.4f'%dgu.nmae_loss_func(pred, y_val, m))\n",
    "print('CPC is %.5f'%dgu.get_CPC(pred, y_val))\n",
    "\n",
    "\n",
    "plt.figure(figsize=[20, 6])\n",
    "plt.plot(y_val[:, t_pre-1], '-', label='true', c='b')\n",
    "plt.plot(pred[:, t_pre-1], '-', label='pred', c='r', alpha=0.8)\n",
    "plt.legend()\n",
    "plt.grid(ls='--')"
   ]
  },
  {
   "cell_type": "code",
   "execution_count": 9,
   "id": "9dc1ea2d-61be-4c4a-b9ea-27082c8bc1e7",
   "metadata": {},
   "outputs": [
    {
     "data": {
      "text/plain": [
       "<matplotlib.image.AxesImage at 0x1b71d0415b0>"
      ]
     },
     "execution_count": 9,
     "metadata": {},
     "output_type": "execute_result"
    },
    {
     "data": {
      "image/png": "[encoded data removed]",
      "text/plain": [
       "<Figure size 432x288 with 1 Axes>"
      ]
     },
     "metadata": {
      "needs_background": "light"
     },
     "output_type": "display_data"
    }
   ],
   "source": [
    "plt.imshow(pred.T.reshape(4, 48, 48, -1).sum(axis=3)[0,:,:])"
   ]
  },
  {
   "cell_type": "code",
   "execution_count": null,
   "id": "b40c2806",
   "metadata": {},
   "outputs": [],
   "source": []
  }
 ],
 "metadata": {
  "kernelspec": {
   "display_name": "Python 3 (ipykernel)",
   "language": "python",
   "name": "python3"
  },
  "language_info": {
   "codemirror_mode": {
    "name": "ipython",
    "version": 3
   },
   "file_extension": ".py",
   "mimetype": "text/x-python",
   "name": "python",
   "nbconvert_exporter": "python",
   "pygments_lexer": "ipython3",
   "version": "3.8.11"
  }
 },
 "nbformat": 4,
 "nbformat_minor": 5
}
