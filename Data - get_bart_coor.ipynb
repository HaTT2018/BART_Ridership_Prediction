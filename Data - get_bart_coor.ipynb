{
 "cells": [
  {
   "cell_type": "code",
   "execution_count": 3,
   "id": "4edb5a6a",
   "metadata": {},
   "outputs": [],
   "source": [
    "from bs4 import BeautifulSoup\n",
    "from numpy.lib.shape_base import take_along_axis\n",
    "import json\n",
    "import requests\n",
    "\n",
    "import pandas as pd\n",
    "import numpy as np\n",
    "import matplotlib.pyplot as plt"
   ]
  },
  {
   "cell_type": "code",
   "execution_count": 4,
   "id": "8879a427",
   "metadata": {},
   "outputs": [],
   "source": [
    "# documentation: https://api.bart.gov/docs/stn/stninfo.aspx"
   ]
  },
  {
   "cell_type": "code",
   "execution_count": 7,
   "id": "6daf0d45",
   "metadata": {},
   "outputs": [],
   "source": [
    "file = open('./bart-api-key.txt')\n",
    "key = file.read()\n",
    "file.close()"
   ]
  },
  {
   "cell_type": "code",
   "execution_count": 32,
   "id": "a82e414d",
   "metadata": {},
   "outputs": [],
   "source": [
    "url = 'http://api.bart.gov/api/stn.aspx?cmd=stns&json=y&key=' + key"
   ]
  },
  {
   "cell_type": "code",
   "execution_count": 36,
   "id": "1f7a07fb",
   "metadata": {},
   "outputs": [],
   "source": [
    "res = requests.get(url)\n",
    "res = requests.get(url)\n",
    "text = json.loads(res.content)"
   ]
  },
  {
   "cell_type": "code",
   "execution_count": 61,
   "id": "42e544a8",
   "metadata": {},
   "outputs": [],
   "source": [
    "stations_data = text['root']['stations']['station']\n",
    "num_stations = len(stations_data)\n",
    "\n",
    "station_coor = pd.DataFrame(index=range(num_stations), columns=['abbr', 'lat', 'lon'])"
   ]
  },
  {
   "cell_type": "code",
   "execution_count": 63,
   "id": "dc6fe969",
   "metadata": {
    "scrolled": false
   },
   "outputs": [],
   "source": [
    "\n",
    "for i in range(num_stations):\n",
    "    station = stations_data[i]\n",
    "    abbr = station['abbr']\n",
    "    lat = station['gtfs_latitude']\n",
    "    lon = station['gtfs_longitude']\n",
    "    station_coor.loc[i, :] = [abbr, lat, lon]"
   ]
  },
  {
   "cell_type": "code",
   "execution_count": 65,
   "id": "d90d520f",
   "metadata": {},
   "outputs": [],
   "source": [
    "station_coor.to_csv('/Volumes/Google Drive/My Drive/Graduate/SP22 CE 299/data/BART/station-coor.csv')"
   ]
  }
 ],
 "metadata": {
  "kernelspec": {
   "display_name": "bda_traff",
   "language": "python",
   "name": "bda_traff"
  },
  "language_info": {
   "codemirror_mode": {
    "name": "ipython",
    "version": 3
   },
   "file_extension": ".py",
   "mimetype": "text/x-python",
   "name": "python",
   "nbconvert_exporter": "python",
   "pygments_lexer": "ipython3",
   "version": "3.8.11"
  }
 },
 "nbformat": 4,
 "nbformat_minor": 5
}
