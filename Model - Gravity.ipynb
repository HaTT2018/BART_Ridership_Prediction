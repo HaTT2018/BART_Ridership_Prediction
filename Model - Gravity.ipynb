{
 "cells": [
  {
   "cell_type": "code",
   "execution_count": 1,
   "metadata": {},
   "outputs": [],
   "source": [
    "import skmob\n",
    "from skmob.models import gravity\n",
    "import geopandas as gpd\n",
    "import matplotlib.pyplot as plt\n",
    "import pandas as pd\n",
    "import numpy as np\n",
    "from sklearn import preprocessing\n",
    "np.random.seed(0)"
   ]
  },
  {
   "cell_type": "code",
   "execution_count": 4,
   "metadata": {
    "scrolled": true
   },
   "outputs": [
    {
     "data": {
      "text/html": [
       "<div>\n",
       "<style scoped>\n",
       "    .dataframe tbody tr th:only-of-type {\n",
       "        vertical-align: middle;\n",
       "    }\n",
       "\n",
       "    .dataframe tbody tr th {\n",
       "        vertical-align: top;\n",
       "    }\n",
       "\n",
       "    .dataframe thead th {\n",
       "        text-align: right;\n",
       "    }\n",
       "</style>\n",
       "<table border=\"1\" class=\"dataframe\">\n",
       "  <thead>\n",
       "    <tr style=\"text-align: right;\">\n",
       "      <th></th>\n",
       "      <th>abbr</th>\n",
       "      <th>lat</th>\n",
       "      <th>lon</th>\n",
       "    </tr>\n",
       "  </thead>\n",
       "  <tbody>\n",
       "    <tr>\n",
       "      <th>0</th>\n",
       "      <td>12TH</td>\n",
       "      <td>37.803768</td>\n",
       "      <td>-122.271450</td>\n",
       "    </tr>\n",
       "    <tr>\n",
       "      <th>1</th>\n",
       "      <td>16TH</td>\n",
       "      <td>37.765062</td>\n",
       "      <td>-122.419694</td>\n",
       "    </tr>\n",
       "  </tbody>\n",
       "</table>\n",
       "</div>"
      ],
      "text/plain": [
       "   abbr        lat         lon\n",
       "0  12TH  37.803768 -122.271450\n",
       "1  16TH  37.765062 -122.419694"
      ]
     },
     "execution_count": 4,
     "metadata": {},
     "output_type": "execute_result"
    }
   ],
   "source": [
    "station_df = pd.read_csv('./data/station-coor.csv', index_col=0)\n",
    "station_df.head(2)"
   ]
  },
  {
   "cell_type": "code",
   "execution_count": 20,
   "metadata": {
    "scrolled": true
   },
   "outputs": [
    {
     "name": "stdout",
     "output_type": "stream",
     "text": [
      "(48, 3)\n"
     ]
    },
    {
     "data": {
      "text/html": [
       "<div>\n",
       "<style scoped>\n",
       "    .dataframe tbody tr th:only-of-type {\n",
       "        vertical-align: middle;\n",
       "    }\n",
       "\n",
       "    .dataframe tbody tr th {\n",
       "        vertical-align: top;\n",
       "    }\n",
       "\n",
       "    .dataframe thead th {\n",
       "        text-align: right;\n",
       "    }\n",
       "</style>\n",
       "<table border=\"1\" class=\"dataframe\">\n",
       "  <thead>\n",
       "    <tr style=\"text-align: right;\">\n",
       "      <th></th>\n",
       "      <th>TotPop</th>\n",
       "      <th>nearest st</th>\n",
       "      <th>geometry</th>\n",
       "    </tr>\n",
       "  </thead>\n",
       "  <tbody>\n",
       "    <tr>\n",
       "      <th>0</th>\n",
       "      <td>11084.0</td>\n",
       "      <td>12TH</td>\n",
       "      <td>POLYGON ((-122.28374 37.79480, -122.28343 37.7...</td>\n",
       "    </tr>\n",
       "    <tr>\n",
       "      <th>1</th>\n",
       "      <td>142973.0</td>\n",
       "      <td>16TH</td>\n",
       "      <td>POLYGON ((-122.43467 37.75611, -122.43564 37.7...</td>\n",
       "    </tr>\n",
       "  </tbody>\n",
       "</table>\n",
       "</div>"
      ],
      "text/plain": [
       "     TotPop nearest st                                           geometry\n",
       "0   11084.0       12TH  POLYGON ((-122.28374 37.79480, -122.28343 37.7...\n",
       "1  142973.0       16TH  POLYGON ((-122.43467 37.75611, -122.43564 37.7..."
      ]
     },
     "execution_count": 20,
     "metadata": {},
     "output_type": "execute_result"
    }
   ],
   "source": [
    "data_X_all = gpd.read_file('./data/data_X_all.shp').iloc[:48, :]\n",
    "tess = data_X_all[['TotPop', 'nearest st', 'geometry']]\n",
    "print(tess.shape)\n",
    "tess.head(2)"
   ]
  },
  {
   "cell_type": "code",
   "execution_count": 30,
   "metadata": {},
   "outputs": [],
   "source": [
    "OD = np.load('./data/3d_daily.npy').sum(axis=2)[:48, :48]\n",
    "OD_df = pd.DataFrame(OD, index=tess['nearest st'].values, columns=tess['nearest st'].values)"
   ]
  },
  {
   "cell_type": "code",
   "execution_count": 31,
   "metadata": {},
   "outputs": [
    {
     "data": {
      "text/plain": [
       "(48, 48)"
      ]
     },
     "execution_count": 31,
     "metadata": {},
     "output_type": "execute_result"
    }
   ],
   "source": [
    "OD_df.shape"
   ]
  },
  {
   "cell_type": "code",
   "execution_count": 38,
   "metadata": {},
   "outputs": [
    {
     "name": "stderr",
     "output_type": "stream",
     "text": [
      "/opt/anaconda3/envs/bda_traff/lib/python3.8/site-packages/skmob/core/flowdataframe.py:145: UserWarning: The tessellation crs is None. It will be set to the default crs WGS84 (EPSG:4326).\n",
      "  warn(\"The tessellation crs is None. It will be set to the default crs WGS84 (EPSG:4326).\")\n"
     ]
    }
   ],
   "source": [
    "ODa = OD_df.stack().reset_index().set_axis(['origin', 'destination', 'flow'], axis=1)\n",
    "ODa = ODa.sort_values(by=['origin', 'destination']).reset_index(drop=True)\n",
    "fdf = skmob.FlowDataFrame(ODa, origin='origin', destination='destination', flow='flow', tessellation=tess,\n",
    "                          tile_id='nearest st')"
   ]
  },
  {
   "cell_type": "code",
   "execution_count": 40,
   "metadata": {},
   "outputs": [
    {
     "data": {
      "text/html": [
       "<div>\n",
       "<style scoped>\n",
       "    .dataframe tbody tr th:only-of-type {\n",
       "        vertical-align: middle;\n",
       "    }\n",
       "\n",
       "    .dataframe tbody tr th {\n",
       "        vertical-align: top;\n",
       "    }\n",
       "\n",
       "    .dataframe thead th {\n",
       "        text-align: right;\n",
       "    }\n",
       "</style>\n",
       "<table border=\"1\" class=\"dataframe\">\n",
       "  <thead>\n",
       "    <tr style=\"text-align: right;\">\n",
       "      <th></th>\n",
       "      <th>TotPop</th>\n",
       "      <th>nearest st</th>\n",
       "      <th>geometry</th>\n",
       "      <th>tot_outflow</th>\n",
       "    </tr>\n",
       "  </thead>\n",
       "  <tbody>\n",
       "    <tr>\n",
       "      <th>0</th>\n",
       "      <td>11084.0</td>\n",
       "      <td>12TH</td>\n",
       "      <td>POLYGON ((-122.28374 37.79480, -122.28343 37.7...</td>\n",
       "      <td>3825906.0</td>\n",
       "    </tr>\n",
       "    <tr>\n",
       "      <th>1</th>\n",
       "      <td>142973.0</td>\n",
       "      <td>16TH</td>\n",
       "      <td>POLYGON ((-122.43467 37.75611, -122.43564 37.7...</td>\n",
       "      <td>3876465.0</td>\n",
       "    </tr>\n",
       "    <tr>\n",
       "      <th>2</th>\n",
       "      <td>36177.0</td>\n",
       "      <td>19TH</td>\n",
       "      <td>MULTIPOLYGON (((-122.26276 37.81013, -122.2630...</td>\n",
       "      <td>3829293.0</td>\n",
       "    </tr>\n",
       "    <tr>\n",
       "      <th>3</th>\n",
       "      <td>104191.0</td>\n",
       "      <td>24TH</td>\n",
       "      <td>POLYGON ((-122.41661 37.73725, -122.41595 37.7...</td>\n",
       "      <td>3707008.0</td>\n",
       "    </tr>\n",
       "    <tr>\n",
       "      <th>4</th>\n",
       "      <td>70630.0</td>\n",
       "      <td>ANTC</td>\n",
       "      <td>POLYGON ((-121.78097 37.96618, -121.78142 37.9...</td>\n",
       "      <td>831803.0</td>\n",
       "    </tr>\n",
       "  </tbody>\n",
       "</table>\n",
       "</div>"
      ],
      "text/plain": [
       "     TotPop nearest st                                           geometry  \\\n",
       "0   11084.0       12TH  POLYGON ((-122.28374 37.79480, -122.28343 37.7...   \n",
       "1  142973.0       16TH  POLYGON ((-122.43467 37.75611, -122.43564 37.7...   \n",
       "2   36177.0       19TH  MULTIPOLYGON (((-122.26276 37.81013, -122.2630...   \n",
       "3  104191.0       24TH  POLYGON ((-122.41661 37.73725, -122.41595 37.7...   \n",
       "4   70630.0       ANTC  POLYGON ((-121.78097 37.96618, -121.78142 37.9...   \n",
       "\n",
       "   tot_outflow  \n",
       "0    3825906.0  \n",
       "1    3876465.0  \n",
       "2    3829293.0  \n",
       "3    3707008.0  \n",
       "4     831803.0  "
      ]
     },
     "execution_count": 40,
     "metadata": {},
     "output_type": "execute_result"
    }
   ],
   "source": [
    "tot_outflows = fdf[fdf['origin']!=fdf['destination']].groupby(by='origin', axis=0)[['flow']].sum()\n",
    "tess = tess.merge(tot_outflows, left_on='nearest st', right_on='origin').rename(columns={'flow': 'tot_outflow'})\n",
    "tess.head()"
   ]
  },
  {
   "cell_type": "code",
   "execution_count": 60,
   "metadata": {},
   "outputs": [
    {
     "data": {
      "text/plain": [
       "(1612, 3)"
      ]
     },
     "execution_count": 60,
     "metadata": {},
     "output_type": "execute_result"
    }
   ],
   "source": [
    "fdf_train = fdf[:1612]\n",
    "fdf_train.shape"
   ]
  },
  {
   "cell_type": "code",
   "execution_count": 61,
   "metadata": {},
   "outputs": [
    {
     "data": {
      "text/plain": [
       "33"
      ]
     },
     "execution_count": 61,
     "metadata": {},
     "output_type": "execute_result"
    }
   ],
   "source": [
    "count = [1 if fdf_train.loc[i, 'origin']==fdf_train.loc[i, 'destination'] else 0 for i in fdf_train.index]\n",
    "sum(count)"
   ]
  },
  {
   "cell_type": "code",
   "execution_count": 62,
   "metadata": {},
   "outputs": [
    {
     "data": {
      "text/html": [
       "<div>\n",
       "<style scoped>\n",
       "    .dataframe tbody tr th:only-of-type {\n",
       "        vertical-align: middle;\n",
       "    }\n",
       "\n",
       "    .dataframe tbody tr th {\n",
       "        vertical-align: top;\n",
       "    }\n",
       "\n",
       "    .dataframe thead th {\n",
       "        text-align: right;\n",
       "    }\n",
       "</style>\n",
       "<table border=\"1\" class=\"dataframe\">\n",
       "  <thead>\n",
       "    <tr style=\"text-align: right;\">\n",
       "      <th>destination</th>\n",
       "      <th>12TH</th>\n",
       "      <th>16TH</th>\n",
       "      <th>19TH</th>\n",
       "      <th>24TH</th>\n",
       "      <th>ANTC</th>\n",
       "      <th>ASHB</th>\n",
       "      <th>BALB</th>\n",
       "      <th>BAYF</th>\n",
       "      <th>CAST</th>\n",
       "      <th>CIVC</th>\n",
       "      <th>...</th>\n",
       "      <th>SANL</th>\n",
       "      <th>SBRN</th>\n",
       "      <th>SFIA</th>\n",
       "      <th>SHAY</th>\n",
       "      <th>SSAN</th>\n",
       "      <th>UCTY</th>\n",
       "      <th>WARM</th>\n",
       "      <th>WCRK</th>\n",
       "      <th>WDUB</th>\n",
       "      <th>WOAK</th>\n",
       "    </tr>\n",
       "    <tr>\n",
       "      <th>origin</th>\n",
       "      <th></th>\n",
       "      <th></th>\n",
       "      <th></th>\n",
       "      <th></th>\n",
       "      <th></th>\n",
       "      <th></th>\n",
       "      <th></th>\n",
       "      <th></th>\n",
       "      <th></th>\n",
       "      <th></th>\n",
       "      <th></th>\n",
       "      <th></th>\n",
       "      <th></th>\n",
       "      <th></th>\n",
       "      <th></th>\n",
       "      <th></th>\n",
       "      <th></th>\n",
       "      <th></th>\n",
       "      <th></th>\n",
       "      <th></th>\n",
       "      <th></th>\n",
       "    </tr>\n",
       "  </thead>\n",
       "  <tbody>\n",
       "    <tr>\n",
       "      <th>12TH</th>\n",
       "      <td>19393.0</td>\n",
       "      <td>96890.0</td>\n",
       "      <td>19207.0</td>\n",
       "      <td>80981.0</td>\n",
       "      <td>47854.0</td>\n",
       "      <td>70423.0</td>\n",
       "      <td>44547.0</td>\n",
       "      <td>86293.0</td>\n",
       "      <td>31071.0</td>\n",
       "      <td>216975.0</td>\n",
       "      <td>...</td>\n",
       "      <td>98460.0</td>\n",
       "      <td>22829.0</td>\n",
       "      <td>40191.0</td>\n",
       "      <td>45239.0</td>\n",
       "      <td>24088.0</td>\n",
       "      <td>61400.0</td>\n",
       "      <td>50588.0</td>\n",
       "      <td>88315.0</td>\n",
       "      <td>35887.0</td>\n",
       "      <td>28286.0</td>\n",
       "    </tr>\n",
       "    <tr>\n",
       "      <th>16TH</th>\n",
       "      <td>107540.0</td>\n",
       "      <td>19689.0</td>\n",
       "      <td>140540.0</td>\n",
       "      <td>65858.0</td>\n",
       "      <td>32145.0</td>\n",
       "      <td>71125.0</td>\n",
       "      <td>160873.0</td>\n",
       "      <td>44761.0</td>\n",
       "      <td>23917.0</td>\n",
       "      <td>181807.0</td>\n",
       "      <td>...</td>\n",
       "      <td>50959.0</td>\n",
       "      <td>45502.0</td>\n",
       "      <td>55348.0</td>\n",
       "      <td>23336.0</td>\n",
       "      <td>40723.0</td>\n",
       "      <td>30306.0</td>\n",
       "      <td>27817.0</td>\n",
       "      <td>40822.0</td>\n",
       "      <td>28619.0</td>\n",
       "      <td>121698.0</td>\n",
       "    </tr>\n",
       "    <tr>\n",
       "      <th>19TH</th>\n",
       "      <td>18662.0</td>\n",
       "      <td>132113.0</td>\n",
       "      <td>18229.0</td>\n",
       "      <td>93940.0</td>\n",
       "      <td>36350.0</td>\n",
       "      <td>73479.0</td>\n",
       "      <td>36500.0</td>\n",
       "      <td>63004.0</td>\n",
       "      <td>23223.0</td>\n",
       "      <td>255870.0</td>\n",
       "      <td>...</td>\n",
       "      <td>69282.0</td>\n",
       "      <td>19545.0</td>\n",
       "      <td>32528.0</td>\n",
       "      <td>39738.0</td>\n",
       "      <td>19363.0</td>\n",
       "      <td>57150.0</td>\n",
       "      <td>59220.0</td>\n",
       "      <td>89026.0</td>\n",
       "      <td>34957.0</td>\n",
       "      <td>19593.0</td>\n",
       "    </tr>\n",
       "    <tr>\n",
       "      <th>24TH</th>\n",
       "      <td>92368.0</td>\n",
       "      <td>63201.0</td>\n",
       "      <td>99287.0</td>\n",
       "      <td>22551.0</td>\n",
       "      <td>17140.0</td>\n",
       "      <td>36486.0</td>\n",
       "      <td>144357.0</td>\n",
       "      <td>24849.0</td>\n",
       "      <td>9884.0</td>\n",
       "      <td>282787.0</td>\n",
       "      <td>...</td>\n",
       "      <td>30621.0</td>\n",
       "      <td>41628.0</td>\n",
       "      <td>45624.0</td>\n",
       "      <td>13820.0</td>\n",
       "      <td>31815.0</td>\n",
       "      <td>11738.0</td>\n",
       "      <td>10014.0</td>\n",
       "      <td>21050.0</td>\n",
       "      <td>11892.0</td>\n",
       "      <td>70277.0</td>\n",
       "    </tr>\n",
       "    <tr>\n",
       "      <th>ANTC</th>\n",
       "      <td>49157.0</td>\n",
       "      <td>25107.0</td>\n",
       "      <td>37423.0</td>\n",
       "      <td>14708.0</td>\n",
       "      <td>14938.0</td>\n",
       "      <td>2988.0</td>\n",
       "      <td>11067.0</td>\n",
       "      <td>2353.0</td>\n",
       "      <td>401.0</td>\n",
       "      <td>67176.0</td>\n",
       "      <td>...</td>\n",
       "      <td>4697.0</td>\n",
       "      <td>6408.0</td>\n",
       "      <td>31119.0</td>\n",
       "      <td>1809.0</td>\n",
       "      <td>5769.0</td>\n",
       "      <td>3088.0</td>\n",
       "      <td>4066.0</td>\n",
       "      <td>27023.0</td>\n",
       "      <td>542.0</td>\n",
       "      <td>5340.0</td>\n",
       "    </tr>\n",
       "  </tbody>\n",
       "</table>\n",
       "<p>5 rows × 48 columns</p>\n",
       "</div>"
      ],
      "text/plain": [
       "destination      12TH      16TH      19TH     24TH     ANTC     ASHB  \\\n",
       "origin                                                                 \n",
       "12TH          19393.0   96890.0   19207.0  80981.0  47854.0  70423.0   \n",
       "16TH         107540.0   19689.0  140540.0  65858.0  32145.0  71125.0   \n",
       "19TH          18662.0  132113.0   18229.0  93940.0  36350.0  73479.0   \n",
       "24TH          92368.0   63201.0   99287.0  22551.0  17140.0  36486.0   \n",
       "ANTC          49157.0   25107.0   37423.0  14708.0  14938.0   2988.0   \n",
       "\n",
       "destination      BALB     BAYF     CAST      CIVC  ...     SANL     SBRN  \\\n",
       "origin                                             ...                     \n",
       "12TH          44547.0  86293.0  31071.0  216975.0  ...  98460.0  22829.0   \n",
       "16TH         160873.0  44761.0  23917.0  181807.0  ...  50959.0  45502.0   \n",
       "19TH          36500.0  63004.0  23223.0  255870.0  ...  69282.0  19545.0   \n",
       "24TH         144357.0  24849.0   9884.0  282787.0  ...  30621.0  41628.0   \n",
       "ANTC          11067.0   2353.0    401.0   67176.0  ...   4697.0   6408.0   \n",
       "\n",
       "destination     SFIA     SHAY     SSAN     UCTY     WARM     WCRK     WDUB  \\\n",
       "origin                                                                       \n",
       "12TH         40191.0  45239.0  24088.0  61400.0  50588.0  88315.0  35887.0   \n",
       "16TH         55348.0  23336.0  40723.0  30306.0  27817.0  40822.0  28619.0   \n",
       "19TH         32528.0  39738.0  19363.0  57150.0  59220.0  89026.0  34957.0   \n",
       "24TH         45624.0  13820.0  31815.0  11738.0  10014.0  21050.0  11892.0   \n",
       "ANTC         31119.0   1809.0   5769.0   3088.0   4066.0  27023.0    542.0   \n",
       "\n",
       "destination      WOAK  \n",
       "origin                 \n",
       "12TH          28286.0  \n",
       "16TH         121698.0  \n",
       "19TH          19593.0  \n",
       "24TH          70277.0  \n",
       "ANTC           5340.0  \n",
       "\n",
       "[5 rows x 48 columns]"
      ]
     },
     "execution_count": 62,
     "metadata": {},
     "output_type": "execute_result"
    }
   ],
   "source": [
    "ODb = ODa.pivot(index='origin', columns='destination', values='flow')\n",
    "ODb.head()"
   ]
  },
  {
   "cell_type": "code",
   "execution_count": 63,
   "metadata": {},
   "outputs": [],
   "source": [
    "OD_ = np.array(ODb)  # shape: [num_cities, num_cities]\n",
    "OD_ = OD_.reshape(-1, 1)\n",
    "scalar_OD = preprocessing.MinMaxScaler().fit(OD_)"
   ]
  },
  {
   "cell_type": "code",
   "execution_count": 64,
   "metadata": {},
   "outputs": [
    {
     "data": {
      "image/png": "[encoded data removed]",
      "text/plain": [
       "<Figure size 432x288 with 2 Axes>"
      ]
     },
     "metadata": {
      "needs_background": "light"
     },
     "output_type": "display_data"
    }
   ],
   "source": [
    "plt.imshow(ODb)\n",
    "plt.xlabel('Origin ID')\n",
    "plt.ylabel('Destination ID')\n",
    "plt.title('Real data (2019 sum)', fontsize=11)\n",
    "plt.colorbar().formatter.set_powerlimits((0, 0))"
   ]
  },
  {
   "cell_type": "markdown",
   "metadata": {},
   "source": [
    "# Gravity model"
   ]
  },
  {
   "cell_type": "markdown",
   "metadata": {
    "tags": []
   },
   "source": [
    "## Singly constrained"
   ]
  },
  {
   "cell_type": "markdown",
   "metadata": {},
   "source": [
    "### Power law deterrence function"
   ]
  },
  {
   "cell_type": "code",
   "execution_count": 65,
   "metadata": {},
   "outputs": [
    {
     "name": "stdout",
     "output_type": "stream",
     "text": [
      "Gravity(name=\"Gravity model\", deterrence_func_type=\"power_law\", deterrence_func_args=[-2.0], origin_exp=1.0, destination_exp=1.0, gravity_type=\"singly constrained\")\n"
     ]
    }
   ],
   "source": [
    "singly_fitted1 = gravity.Gravity(gravity_type='singly constrained')\n",
    "print(singly_fitted1)"
   ]
  },
  {
   "cell_type": "code",
   "execution_count": 66,
   "metadata": {
    "scrolled": true
   },
   "outputs": [
    {
     "name": "stdout",
     "output_type": "stream",
     "text": [
      "Gravity(name=\"Gravity model\", deterrence_func_type=\"power_law\", deterrence_func_args=[-0.35444794697787074], origin_exp=1.0, destination_exp=-0.11491288317627688, gravity_type=\"singly constrained\")\n"
     ]
    }
   ],
   "source": [
    "singly_fitted1.fit(fdf_train, relevance_column='TotPop')\n",
    "print(singly_fitted1)"
   ]
  },
  {
   "cell_type": "code",
   "execution_count": 67,
   "metadata": {},
   "outputs": [
    {
     "name": "stderr",
     "output_type": "stream",
     "text": [
      "100%|██████████████████████████████████████████████████████████████████████████████████████████████████████| 48/48 [00:00<00:00, 19201.39it/s]\n",
      "/opt/anaconda3/envs/bda_traff/lib/python3.8/site-packages/skmob/models/gravity.py:43: RuntimeWarning: divide by zero encountered in power\n",
      "  return np.power(x, exponent)\n",
      "/opt/anaconda3/envs/bda_traff/lib/python3.8/site-packages/skmob/core/flowdataframe.py:145: UserWarning: The tessellation crs is None. It will be set to the default crs WGS84 (EPSG:4326).\n",
      "  warn(\"The tessellation crs is None. It will be set to the default crs WGS84 (EPSG:4326).\")\n"
     ]
    }
   ],
   "source": [
    "fdf_fit1 = singly_fitted1.generate(tess, tile_id_column='nearest st', tot_outflows_column='tot_outflow',\n",
    "                                   relevance_column='TotPop', out_format='flows')"
   ]
  },
  {
   "cell_type": "code",
   "execution_count": 68,
   "metadata": {},
   "outputs": [
    {
     "data": {
      "text/html": [
       "<div>\n",
       "<style scoped>\n",
       "    .dataframe tbody tr th:only-of-type {\n",
       "        vertical-align: middle;\n",
       "    }\n",
       "\n",
       "    .dataframe tbody tr th {\n",
       "        vertical-align: top;\n",
       "    }\n",
       "\n",
       "    .dataframe thead th {\n",
       "        text-align: right;\n",
       "    }\n",
       "</style>\n",
       "<table border=\"1\" class=\"dataframe\">\n",
       "  <thead>\n",
       "    <tr style=\"text-align: right;\">\n",
       "      <th></th>\n",
       "      <th>origin</th>\n",
       "      <th>destination</th>\n",
       "      <th>flow</th>\n",
       "    </tr>\n",
       "  </thead>\n",
       "  <tbody>\n",
       "    <tr>\n",
       "      <th>0</th>\n",
       "      <td>12TH</td>\n",
       "      <td>16TH</td>\n",
       "      <td>70948.755974</td>\n",
       "    </tr>\n",
       "    <tr>\n",
       "      <th>1</th>\n",
       "      <td>12TH</td>\n",
       "      <td>19TH</td>\n",
       "      <td>169891.235186</td>\n",
       "    </tr>\n",
       "    <tr>\n",
       "      <th>2</th>\n",
       "      <td>12TH</td>\n",
       "      <td>24TH</td>\n",
       "      <td>76827.566234</td>\n",
       "    </tr>\n",
       "    <tr>\n",
       "      <th>3</th>\n",
       "      <td>12TH</td>\n",
       "      <td>ANTC</td>\n",
       "      <td>49973.710874</td>\n",
       "    </tr>\n",
       "    <tr>\n",
       "      <th>4</th>\n",
       "      <td>12TH</td>\n",
       "      <td>ASHB</td>\n",
       "      <td>116713.115327</td>\n",
       "    </tr>\n",
       "    <tr>\n",
       "      <th>...</th>\n",
       "      <td>...</td>\n",
       "      <td>...</td>\n",
       "      <td>...</td>\n",
       "    </tr>\n",
       "    <tr>\n",
       "      <th>2251</th>\n",
       "      <td>NCON</td>\n",
       "      <td>UCTY</td>\n",
       "      <td>9770.532884</td>\n",
       "    </tr>\n",
       "    <tr>\n",
       "      <th>2252</th>\n",
       "      <td>NCON</td>\n",
       "      <td>WARM</td>\n",
       "      <td>9774.066094</td>\n",
       "    </tr>\n",
       "    <tr>\n",
       "      <th>2253</th>\n",
       "      <td>NCON</td>\n",
       "      <td>WCRK</td>\n",
       "      <td>15751.731216</td>\n",
       "    </tr>\n",
       "    <tr>\n",
       "      <th>2254</th>\n",
       "      <td>NCON</td>\n",
       "      <td>WDUB</td>\n",
       "      <td>11227.446777</td>\n",
       "    </tr>\n",
       "    <tr>\n",
       "      <th>2255</th>\n",
       "      <td>NCON</td>\n",
       "      <td>WOAK</td>\n",
       "      <td>13458.966046</td>\n",
       "    </tr>\n",
       "  </tbody>\n",
       "</table>\n",
       "<p>2256 rows × 3 columns</p>\n",
       "</div>"
      ],
      "text/plain": [
       "     origin destination           flow\n",
       "0      12TH        16TH   70948.755974\n",
       "1      12TH        19TH  169891.235186\n",
       "2      12TH        24TH   76827.566234\n",
       "3      12TH        ANTC   49973.710874\n",
       "4      12TH        ASHB  116713.115327\n",
       "...     ...         ...            ...\n",
       "2251   NCON        UCTY    9770.532884\n",
       "2252   NCON        WARM    9774.066094\n",
       "2253   NCON        WCRK   15751.731216\n",
       "2254   NCON        WDUB   11227.446777\n",
       "2255   NCON        WOAK   13458.966046\n",
       "\n",
       "[2256 rows x 3 columns]"
      ]
     },
     "execution_count": 68,
     "metadata": {},
     "output_type": "execute_result"
    }
   ],
   "source": [
    "fdf_fit1"
   ]
  },
  {
   "cell_type": "code",
   "execution_count": 71,
   "metadata": {},
   "outputs": [
    {
     "name": "stdout",
     "output_type": "stream",
     "text": [
      "(48, 48)\n"
     ]
    },
    {
     "data": {
      "text/html": [
       "<div>\n",
       "<style scoped>\n",
       "    .dataframe tbody tr th:only-of-type {\n",
       "        vertical-align: middle;\n",
       "    }\n",
       "\n",
       "    .dataframe tbody tr th {\n",
       "        vertical-align: top;\n",
       "    }\n",
       "\n",
       "    .dataframe thead th {\n",
       "        text-align: right;\n",
       "    }\n",
       "</style>\n",
       "<table border=\"1\" class=\"dataframe\">\n",
       "  <thead>\n",
       "    <tr style=\"text-align: right;\">\n",
       "      <th>destination</th>\n",
       "      <th>12TH</th>\n",
       "      <th>16TH</th>\n",
       "      <th>19TH</th>\n",
       "      <th>24TH</th>\n",
       "      <th>ANTC</th>\n",
       "      <th>ASHB</th>\n",
       "      <th>BALB</th>\n",
       "      <th>BAYF</th>\n",
       "      <th>CAST</th>\n",
       "      <th>CIVC</th>\n",
       "      <th>...</th>\n",
       "      <th>SANL</th>\n",
       "      <th>SBRN</th>\n",
       "      <th>SFIA</th>\n",
       "      <th>SHAY</th>\n",
       "      <th>SSAN</th>\n",
       "      <th>UCTY</th>\n",
       "      <th>WARM</th>\n",
       "      <th>WCRK</th>\n",
       "      <th>WDUB</th>\n",
       "      <th>WOAK</th>\n",
       "    </tr>\n",
       "    <tr>\n",
       "      <th>origin</th>\n",
       "      <th></th>\n",
       "      <th></th>\n",
       "      <th></th>\n",
       "      <th></th>\n",
       "      <th></th>\n",
       "      <th></th>\n",
       "      <th></th>\n",
       "      <th></th>\n",
       "      <th></th>\n",
       "      <th></th>\n",
       "      <th></th>\n",
       "      <th></th>\n",
       "      <th></th>\n",
       "      <th></th>\n",
       "      <th></th>\n",
       "      <th></th>\n",
       "      <th></th>\n",
       "      <th></th>\n",
       "      <th></th>\n",
       "      <th></th>\n",
       "      <th></th>\n",
       "    </tr>\n",
       "  </thead>\n",
       "  <tbody>\n",
       "    <tr>\n",
       "      <th>12TH</th>\n",
       "      <td>0.000000</td>\n",
       "      <td>70948.755974</td>\n",
       "      <td>169891.235186</td>\n",
       "      <td>76827.566234</td>\n",
       "      <td>49973.710874</td>\n",
       "      <td>116713.115327</td>\n",
       "      <td>67101.890589</td>\n",
       "      <td>69477.695708</td>\n",
       "      <td>68000.457413</td>\n",
       "      <td>73649.504658</td>\n",
       "      <td>...</td>\n",
       "      <td>76512.061354</td>\n",
       "      <td>68633.317551</td>\n",
       "      <td>85739.302602</td>\n",
       "      <td>60758.296195</td>\n",
       "      <td>67092.896732</td>\n",
       "      <td>54800.803025</td>\n",
       "      <td>52347.941796</td>\n",
       "      <td>69697.568707</td>\n",
       "      <td>58851.135475</td>\n",
       "      <td>160239.230938</td>\n",
       "    </tr>\n",
       "    <tr>\n",
       "      <th>16TH</th>\n",
       "      <td>103402.149754</td>\n",
       "      <td>0.000000</td>\n",
       "      <td>86715.265251</td>\n",
       "      <td>121160.613996</td>\n",
       "      <td>49575.914682</td>\n",
       "      <td>83552.330284</td>\n",
       "      <td>114745.162212</td>\n",
       "      <td>63836.784397</td>\n",
       "      <td>63414.626307</td>\n",
       "      <td>147310.865364</td>\n",
       "      <td>...</td>\n",
       "      <td>67024.640529</td>\n",
       "      <td>85688.727600</td>\n",
       "      <td>102240.304250</td>\n",
       "      <td>59321.209103</td>\n",
       "      <td>90003.387040</td>\n",
       "      <td>54516.071122</td>\n",
       "      <td>53471.568485</td>\n",
       "      <td>63150.204779</td>\n",
       "      <td>57309.131107</td>\n",
       "      <td>105402.410370</td>\n",
       "    </tr>\n",
       "    <tr>\n",
       "      <th>19TH</th>\n",
       "      <td>192599.860197</td>\n",
       "      <td>67452.145399</td>\n",
       "      <td>0.000000</td>\n",
       "      <td>72391.798588</td>\n",
       "      <td>50129.620385</td>\n",
       "      <td>125179.388720</td>\n",
       "      <td>64088.058785</td>\n",
       "      <td>68884.360443</td>\n",
       "      <td>67766.018481</td>\n",
       "      <td>70085.009111</td>\n",
       "      <td>...</td>\n",
       "      <td>76068.073217</td>\n",
       "      <td>65953.636924</td>\n",
       "      <td>82612.828432</td>\n",
       "      <td>60159.657824</td>\n",
       "      <td>64311.138630</td>\n",
       "      <td>54264.928444</td>\n",
       "      <td>51816.462189</td>\n",
       "      <td>71215.066590</td>\n",
       "      <td>58672.014251</td>\n",
       "      <td>135837.341650</td>\n",
       "    </tr>\n",
       "    <tr>\n",
       "      <th>24TH</th>\n",
       "      <td>102746.267190</td>\n",
       "      <td>111179.741389</td>\n",
       "      <td>85399.111108</td>\n",
       "      <td>0.000000</td>\n",
       "      <td>47590.903746</td>\n",
       "      <td>80208.342110</td>\n",
       "      <td>108055.046774</td>\n",
       "      <td>63974.474750</td>\n",
       "      <td>62972.137793</td>\n",
       "      <td>100743.454651</td>\n",
       "      <td>...</td>\n",
       "      <td>67329.706338</td>\n",
       "      <td>89268.310118</td>\n",
       "      <td>105692.786672</td>\n",
       "      <td>58905.518102</td>\n",
       "      <td>94038.014680</td>\n",
       "      <td>53858.537791</td>\n",
       "      <td>52417.434622</td>\n",
       "      <td>61028.543207</td>\n",
       "      <td>56226.987890</td>\n",
       "      <td>104086.339901</td>\n",
       "    </tr>\n",
       "    <tr>\n",
       "      <th>ANTC</th>\n",
       "      <td>20367.726441</td>\n",
       "      <td>13863.947534</td>\n",
       "      <td>18022.306681</td>\n",
       "      <td>14503.603835</td>\n",
       "      <td>0.000000</td>\n",
       "      <td>17504.524084</td>\n",
       "      <td>13835.466843</td>\n",
       "      <td>16410.485799</td>\n",
       "      <td>17699.193032</td>\n",
       "      <td>14181.274051</td>\n",
       "      <td>...</td>\n",
       "      <td>16610.593712</td>\n",
       "      <td>15039.479087</td>\n",
       "      <td>19177.800067</td>\n",
       "      <td>16479.263643</td>\n",
       "      <td>14400.893061</td>\n",
       "      <td>15729.193906</td>\n",
       "      <td>16136.120835</td>\n",
       "      <td>20991.500744</td>\n",
       "      <td>18528.341376</td>\n",
       "      <td>18962.389269</td>\n",
       "    </tr>\n",
       "  </tbody>\n",
       "</table>\n",
       "<p>5 rows × 48 columns</p>\n",
       "</div>"
      ],
      "text/plain": [
       "destination           12TH           16TH           19TH           24TH  \\\n",
       "origin                                                                    \n",
       "12TH              0.000000   70948.755974  169891.235186   76827.566234   \n",
       "16TH         103402.149754       0.000000   86715.265251  121160.613996   \n",
       "19TH         192599.860197   67452.145399       0.000000   72391.798588   \n",
       "24TH         102746.267190  111179.741389   85399.111108       0.000000   \n",
       "ANTC          20367.726441   13863.947534   18022.306681   14503.603835   \n",
       "\n",
       "destination          ANTC           ASHB           BALB          BAYF  \\\n",
       "origin                                                                  \n",
       "12TH         49973.710874  116713.115327   67101.890589  69477.695708   \n",
       "16TH         49575.914682   83552.330284  114745.162212  63836.784397   \n",
       "19TH         50129.620385  125179.388720   64088.058785  68884.360443   \n",
       "24TH         47590.903746   80208.342110  108055.046774  63974.474750   \n",
       "ANTC             0.000000   17504.524084   13835.466843  16410.485799   \n",
       "\n",
       "destination          CAST           CIVC  ...          SANL          SBRN  \\\n",
       "origin                                    ...                               \n",
       "12TH         68000.457413   73649.504658  ...  76512.061354  68633.317551   \n",
       "16TH         63414.626307  147310.865364  ...  67024.640529  85688.727600   \n",
       "19TH         67766.018481   70085.009111  ...  76068.073217  65953.636924   \n",
       "24TH         62972.137793  100743.454651  ...  67329.706338  89268.310118   \n",
       "ANTC         17699.193032   14181.274051  ...  16610.593712  15039.479087   \n",
       "\n",
       "destination           SFIA          SHAY          SSAN          UCTY  \\\n",
       "origin                                                                 \n",
       "12TH          85739.302602  60758.296195  67092.896732  54800.803025   \n",
       "16TH         102240.304250  59321.209103  90003.387040  54516.071122   \n",
       "19TH          82612.828432  60159.657824  64311.138630  54264.928444   \n",
       "24TH         105692.786672  58905.518102  94038.014680  53858.537791   \n",
       "ANTC          19177.800067  16479.263643  14400.893061  15729.193906   \n",
       "\n",
       "destination          WARM          WCRK          WDUB           WOAK  \n",
       "origin                                                                \n",
       "12TH         52347.941796  69697.568707  58851.135475  160239.230938  \n",
       "16TH         53471.568485  63150.204779  57309.131107  105402.410370  \n",
       "19TH         51816.462189  71215.066590  58672.014251  135837.341650  \n",
       "24TH         52417.434622  61028.543207  56226.987890  104086.339901  \n",
       "ANTC         16136.120835  20991.500744  18528.341376   18962.389269  \n",
       "\n",
       "[5 rows x 48 columns]"
      ]
     },
     "execution_count": 71,
     "metadata": {},
     "output_type": "execute_result"
    }
   ],
   "source": [
    "OD_fit1 = pd.DataFrame(fdf_fit1[['origin', 'destination', 'flow']])\n",
    "OD_rec1 = OD_fit1.pivot(index='origin', columns='destination', values='flow').fillna(0)\n",
    "print(OD_rec1.shape)\n",
    "OD_rec1.head()"
   ]
  },
  {
   "cell_type": "code",
   "execution_count": 72,
   "metadata": {},
   "outputs": [
    {
     "data": {
      "image/png": "[encoded data removed]",
      "text/plain": [
       "<Figure size 432x288 with 2 Axes>"
      ]
     },
     "metadata": {
      "needs_background": "light"
     },
     "output_type": "display_data"
    }
   ],
   "source": [
    "plt.imshow(OD_rec1, vmin=0, vmax=9e4)\n",
    "plt.xlabel('Origin ID')\n",
    "plt.ylabel('Destination ID')\n",
    "plt.title('Singly constrained, power law', fontsize=11)\n",
    "plt.colorbar().formatter.set_powerlimits((0, 0))"
   ]
  },
  {
   "cell_type": "code",
   "execution_count": 76,
   "metadata": {},
   "outputs": [],
   "source": [
    "# OD_rec1.stack().reset_index().iloc[1612:, :].to_csv('./res/dg and g/g_pred.csv')"
   ]
  }
 ],
 "metadata": {
  "kernelspec": {
   "display_name": "bda_traff",
   "language": "python",
   "name": "bda_traff"
  },
  "language_info": {
   "codemirror_mode": {
    "name": "ipython",
    "version": 3
   },
   "file_extension": ".py",
   "mimetype": "text/x-python",
   "name": "python",
   "nbconvert_exporter": "python",
   "pygments_lexer": "ipython3",
   "version": "3.8.11"
  }
 },
 "nbformat": 4,
 "nbformat_minor": 4
}
