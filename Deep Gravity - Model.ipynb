{
 "cells": [
  {
   "cell_type": "code",
   "execution_count": 1,
   "id": "778120f6",
   "metadata": {},
   "outputs": [],
   "source": [
    "import numpy as np\n",
    "import pandas as pd\n",
    "import matplotlib.pyplot as plt\n",
    "import ipdb"
   ]
  },
  {
   "cell_type": "markdown",
   "id": "c666fc92",
   "metadata": {},
   "source": [
    "# Gravity Model Inspired Neural Network (FC)"
   ]
  },
  {
   "cell_type": "code",
   "execution_count": 2,
   "id": "37b8df66",
   "metadata": {},
   "outputs": [],
   "source": [
    "import torch\n",
    "from torchvision import datasets, transforms\n",
    "import torch.nn as nn\n",
    "import torch.optim as optim\n",
    "from torchinfo import summary\n",
    "from torch.utils.data import TensorDataset"
   ]
  },
  {
   "cell_type": "code",
   "execution_count": 3,
   "id": "9630faca",
   "metadata": {},
   "outputs": [],
   "source": [
    "# Model specification\n",
    "class DeepGravityNet(nn.Module):\n",
    "    def __init__(self, inp_dim, hid_dim=256, out_dim=1, dropout_p=0.35):\n",
    "        super(DeepGravityNet, self).__init__()\n",
    "        \n",
    "        self.deep_graivty_fc1 = nn.Sequential(\n",
    "            nn.Linear(inp_dim, hid_dim),\n",
    "            nn.LeakyReLU(),\n",
    "            nn.Dropout(dropout_p),\n",
    "            \n",
    "            nn.Linear(hid_dim, hid_dim),\n",
    "            nn.LeakyReLU(),\n",
    "            nn.Dropout(dropout_p),\n",
    "            \n",
    "            nn.Linear(hid_dim, hid_dim),\n",
    "            nn.LeakyReLU(),\n",
    "            nn.Dropout(dropout_p),\n",
    "            \n",
    "            nn.Linear(hid_dim, hid_dim),\n",
    "            nn.LeakyReLU(),\n",
    "            nn.Dropout(dropout_p),\n",
    "            \n",
    "            nn.Linear(hid_dim, hid_dim),\n",
    "            nn.LeakyReLU(),\n",
    "            nn.Dropout(dropout_p)\n",
    "        )\n",
    "        \n",
    "        self.deep_graivty_fc2 = nn.Sequential(\n",
    "            \n",
    "            nn.Linear(hid_dim, hid_dim // 2),\n",
    "            nn.LeakyReLU(),\n",
    "            nn.Dropout(dropout_p),\n",
    "            \n",
    "            nn.Linear(hid_dim // 2, hid_dim // 2),\n",
    "            nn.LeakyReLU(),\n",
    "            nn.Dropout(dropout_p),\n",
    "            \n",
    "            nn.Linear(hid_dim // 2, hid_dim // 2),\n",
    "            nn.LeakyReLU(),\n",
    "            nn.Dropout(dropout_p),\n",
    "            \n",
    "            nn.Linear(hid_dim // 2, hid_dim // 2),\n",
    "            nn.LeakyReLU(),\n",
    "            nn.Dropout(dropout_p),\n",
    "            \n",
    "            nn.Linear(hid_dim // 2, hid_dim // 2),\n",
    "            nn.LeakyReLU(),\n",
    "            nn.Dropout(dropout_p),\n",
    "            \n",
    "            nn.Linear(hid_dim // 2, hid_dim // 2),\n",
    "            nn.LeakyReLU(),\n",
    "            nn.Dropout(dropout_p),\n",
    "            \n",
    "            nn.Linear(hid_dim // 2, hid_dim // 2),\n",
    "            nn.LeakyReLU(),\n",
    "            nn.Dropout(dropout_p),\n",
    "            \n",
    "            nn.Linear(hid_dim // 2, hid_dim // 2),\n",
    "            nn.LeakyReLU(),\n",
    "            nn.Dropout(dropout_p),\n",
    "            \n",
    "            nn.Linear(hid_dim // 2, hid_dim // 2),\n",
    "            nn.LeakyReLU(),\n",
    "            nn.Dropout(dropout_p),\n",
    "            \n",
    "            nn.Linear(hid_dim // 2, hid_dim // 2),\n",
    "            nn.LeakyReLU(),\n",
    "            nn.Dropout(dropout_p),\n",
    "            \n",
    "            nn.Linear(hid_dim // 2, 1)\n",
    "        )\n",
    "    def forward(self, x):\n",
    "        x = nn.BatchNorm1d(x.shape[1])(x)\n",
    "        x = self.deep_graivty_fc1(x)\n",
    "        x = nn.BatchNorm1d(x.shape[1])(x)\n",
    "        # shape of \"x\" here = [batchsize, sequence_len, 256]\n",
    "        x = self.deep_graivty_fc2(x)\n",
    "        return x\n",
    "    "
   ]
  },
  {
   "cell_type": "markdown",
   "id": "93e77dcf",
   "metadata": {},
   "source": [
    "## Reading data "
   ]
  },
  {
   "cell_type": "code",
   "execution_count": 4,
   "id": "937faa77",
   "metadata": {},
   "outputs": [],
   "source": [
    "OD = pd.read_csv('./data/OD.csv', index_col=0)\n",
    "data_X_org = pd.read_csv('./data/data_X.csv', index_col=0)\n",
    "connectivity = pd.read_csv('./data/connectivity.csv', index_col=0)\n",
    "stops = pd.read_csv('./data/stops_order.csv', index_col=0)\n"
   ]
  },
  {
   "cell_type": "code",
   "execution_count": 10,
   "id": "5d27677a",
   "metadata": {},
   "outputs": [],
   "source": [
    "def get_data_X(dest):\n",
    "    data_X_df = data_X_org.copy()\n",
    "    # dest means the destination station name\n",
    "    dest_data = data_X_df.loc[data_X_df['nearest station']==dest]\n",
    "    dest_lat = data_X_df.loc[data_X_df['nearest station']==dest, 'INTPTLAT'].values\n",
    "    dest_lon = data_X_df.loc[data_X_df['nearest station']==dest, 'INTPTLON'].values\n",
    "    \n",
    "    dist_lst = []\n",
    "    for i in data_X_df.index:\n",
    "        lat = data_X_df.loc[i, 'INTPTLAT']\n",
    "        lon = data_X_df.loc[i, 'INTPTLON']\n",
    "        dist = np.sqrt((dest_lat-lat)**2 + (dest_lon-lon)**2) * 111  # km\n",
    "        dist_lst.append(dist[0])\n",
    "    \n",
    "    data_X_df.insert(2, 'dist', dist_lst)\n",
    "    \n",
    "    data_X_df = data_X_df.drop(['INTPTLAT', 'INTPTLON', 'nearest station'], axis=1)\n",
    "    data_X = data_X_df.to_numpy()\n",
    "    \n",
    "    dest_data = dest_data.drop(['INTPTLAT', 'INTPTLON', 'nearest station'], axis=1)\n",
    "    dest_data = dest_data.to_numpy().reshape(1, -1)\n",
    "    dest_data_mat = np.repeat(dest_data, data_X.shape[0], axis=0)\n",
    "    \n",
    "    # concatenate data_X and dest_data_mat\n",
    "    data_X = np.concatenate([data_X, dest_data_mat], axis=1)\n",
    "    \n",
    "    # normalize\n",
    "    data_X = (data_X) / (data_X.max(axis=0))\n",
    "        \n",
    "    return data_X[np.newaxis, :, :]"
   ]
  },
  {
   "cell_type": "code",
   "execution_count": 50,
   "id": "9e08bf77",
   "metadata": {},
   "outputs": [],
   "source": [
    "def get_data_X_for_all_stops(stops):\n",
    "    # stops should be a list\n",
    "    data_X = get_data_X(stops[0])\n",
    "    data_y = OD.loc[:, stops[0]].to_numpy()[np.newaxis, :, np.newaxis]\n",
    "    data_y = (data_y - data_y.min())/(data_y.max() - data_y.min())\n",
    "    \n",
    "    for i in stops[1:]:\n",
    "        data_X = np.concatenate([data_X, get_data_X(i)], axis=0)\n",
    "        \n",
    "        y = OD.loc[:, i].to_numpy()[np.newaxis, :, np.newaxis]\n",
    "        y = (y - y.min())/(y.max() - y.min())\n",
    "        data_y = np.concatenate([data_y, y], axis=0)\n",
    "        \n",
    "    return data_X, data_y"
   ]
  },
  {
   "cell_type": "code",
   "execution_count": 51,
   "id": "8c4f3799",
   "metadata": {},
   "outputs": [
    {
     "name": "stdout",
     "output_type": "stream",
     "text": [
      "(50, 50, 37)\n",
      "(50, 50, 1)\n"
     ]
    }
   ],
   "source": [
    "data_X, data_y = get_data_X_for_all_stops(list(stops['stop']))\n",
    "print(data_X.shape)\n",
    "print(data_y.shape)"
   ]
  },
  {
   "cell_type": "code",
   "execution_count": 53,
   "id": "0c222846",
   "metadata": {},
   "outputs": [
    {
     "name": "stdout",
     "output_type": "stream",
     "text": [
      "Input dimension is 37\n"
     ]
    }
   ],
   "source": [
    "# Initialization of hyper parameters\n",
    "inp_dim = data_X.shape[2]\n",
    "print('Input dimension is %i'%inp_dim)"
   ]
  },
  {
   "cell_type": "markdown",
   "id": "10b2a07a",
   "metadata": {},
   "source": [
    "## Train the model"
   ]
  },
  {
   "cell_type": "code",
   "execution_count": 54,
   "id": "f17e82d4",
   "metadata": {},
   "outputs": [],
   "source": [
    "# #############################\n",
    "# Preparing data for PyTorch\n",
    "# #############################\n",
    "device = torch.device(\"cuda\" if torch.cuda.is_available() else \"cpu\")\n",
    "\n",
    "prop = 0.7\n",
    "l = int(data_X.shape[0]*prop)\n",
    "\n",
    "X_train = torch.tensor(data_X[:l, :, :], dtype=torch.float32).to(device)\n",
    "y_train = torch.tensor(data_y[:l, :, :], dtype=torch.float32).to(device)\n",
    "X_val = torch.tensor(data_X[l:, :, :], dtype=torch.float32).to(device)\n",
    "y_val = torch.tensor(data_y[l:, :, :], dtype=torch.float32).to(device)\n",
    "\n",
    "batch_size = 100\n",
    "loader_train = torch.utils.data.DataLoader(\n",
    "    TensorDataset(X_train, y_train), batch_size, shuffle=True\n",
    ")\n",
    "\n",
    "iter_train = iter(loader_train)\n"
   ]
  },
  {
   "cell_type": "code",
   "execution_count": 55,
   "id": "2f897297",
   "metadata": {},
   "outputs": [],
   "source": [
    "# Train the model by inputing \n",
    "# [land use data and trip data (demand at each region)] \n",
    "# to the model, then output one column of OD\n",
    "model = DeepGravityNet(inp_dim)\n",
    "loss_func = nn.MSELoss()\n",
    "loss_set_train = []\n",
    "loss_set_val = []\n"
   ]
  },
  {
   "cell_type": "code",
   "execution_count": 56,
   "id": "7362f4b4",
   "metadata": {},
   "outputs": [],
   "source": [
    "optimizer = optim.Adam(model.parameters())"
   ]
  },
  {
   "cell_type": "code",
   "execution_count": 57,
   "id": "82cfa9e3",
   "metadata": {},
   "outputs": [
    {
     "name": "stdout",
     "output_type": "stream",
     "text": [
      "Epoch 0 success, val loss:0.047454, train loss:0.070765\n",
      "Epoch 50 success, val loss:0.030973, train loss:0.035769\n",
      "Epoch 100 success, val loss:0.024605, train loss:0.029968\n",
      "Epoch 150 success, val loss:0.020437, train loss:0.028595\n",
      "Epoch 200 success, val loss:0.023831, train loss:0.026817\n",
      "Epoch 250 success, val loss:0.021244, train loss:0.024430\n",
      "Epoch 300 success, val loss:0.020473, train loss:0.021569\n",
      "Epoch 350 success, val loss:0.019497, train loss:0.022156\n",
      "Epoch 400 success, val loss:0.017069, train loss:0.021320\n",
      "Epoch 450 success, val loss:0.018057, train loss:0.020587\n",
      "Epoch 500 success, val loss:0.019004, train loss:0.021203\n",
      "Epoch 550 success, val loss:0.018623, train loss:0.020611\n",
      "Epoch 600 success, val loss:0.017612, train loss:0.020913\n",
      "Epoch 650 success, val loss:0.017936, train loss:0.019871\n",
      "Epoch 700 success, val loss:0.019165, train loss:0.020067\n",
      "Epoch 750 success, val loss:0.019258, train loss:0.020097\n",
      "Epoch 800 success, val loss:0.017116, train loss:0.021447\n",
      "Epoch 850 success, val loss:0.018336, train loss:0.021099\n",
      "Epoch 900 success, val loss:0.017765, train loss:0.019701\n",
      "Epoch 950 success, val loss:0.018660, train loss:0.020163\n"
     ]
    }
   ],
   "source": [
    "model.train()\n",
    "\n",
    "epochs = 1000\n",
    "\n",
    "# assert len(src_loader) == len(tar_loader)\n",
    "   \n",
    "for e in range(epochs):\n",
    "    #ipdb.set_trace()\n",
    "    for i in range(len(loader_train)):\n",
    "        try:\n",
    "            X, y = iter_train.next()\n",
    "        except:\n",
    "            iter_train = iter(loader_train)\n",
    "            X, y = iter_train.next()\n",
    "        \n",
    "        out = model(X)\n",
    "#         ipdb.set_trace()\n",
    "        loss = loss_func(out, y)\n",
    "\n",
    "        out_val = model(X_val)\n",
    "#         ipdb.set_trace()\n",
    "        loss_val = loss_func(out_val, y_val)\n",
    "\n",
    "        optimizer.zero_grad()\n",
    "        loss.backward()\n",
    "        optimizer.step()\n",
    "\n",
    "        loss_set_val.append(loss_val.cpu().detach().numpy())\n",
    "        loss_set_train.append(loss.cpu().detach().numpy())\n",
    "    if e%50==0:\n",
    "        print('Epoch %i success, val loss:%.6f, train loss:%.6f'%(\n",
    "            e, loss_val.cpu().detach().numpy(), loss.cpu().detach().numpy()\n",
    "        ))\n",
    "        "
   ]
  },
  {
   "cell_type": "code",
   "execution_count": 58,
   "id": "77ef244c",
   "metadata": {},
   "outputs": [],
   "source": [
    "def plot_loss(val, train, title):\n",
    "    fig = plt.figure()\n",
    "    ax1 = fig.add_subplot(121)\n",
    "    ax1.plot(val)\n",
    "    ax1.set_xlabel('Batches')\n",
    "    ax1.set_ylabel('MSELoss')\n",
    "    ax1.set_ylim([0, max(val)])\n",
    "    ax1.set_title('Validation loss')\n",
    "    ax1.grid()\n",
    "    ax2 = fig.add_subplot(122)\n",
    "    ax2.plot(train)\n",
    "    ax2.set_xlabel('Batches')\n",
    "    ax2.set_ylabel('MSELoss')\n",
    "    ax2.set_ylim([0, max(train)])\n",
    "    ax2.set_title('Train loss')\n",
    "    ax2.grid()\n",
    "    plt.suptitle(title)"
   ]
  },
  {
   "cell_type": "code",
   "execution_count": 59,
   "id": "82d24a49",
   "metadata": {},
   "outputs": [
    {
     "data": {
      "image/png": "[encoded data removed]",
      "text/plain": [
       "<Figure size 432x288 with 2 Axes>"
      ]
     },
     "metadata": {
      "needs_background": "light"
     },
     "output_type": "display_data"
    }
   ],
   "source": [
    "plot_loss(loss_set_val, loss_set_train, 'Loss')"
   ]
  },
  {
   "cell_type": "markdown",
   "id": "0fcfd365",
   "metadata": {},
   "source": [
    "## Test the model"
   ]
  },
  {
   "cell_type": "code",
   "execution_count": 60,
   "id": "22009f19",
   "metadata": {},
   "outputs": [
    {
     "data": {
      "image/png": "[encoded data removed]",
      "text/plain": [
       "<Figure size 432x288 with 1 Axes>"
      ]
     },
     "metadata": {
      "needs_background": "light"
     },
     "output_type": "display_data"
    }
   ],
   "source": [
    "plt.plot(out_val.cpu().detach().numpy()[0, :, 0], label='pred')\n",
    "plt.plot(y_val.cpu().detach().numpy()[0, :, 0], label='ground truth')\n",
    "plt.xlabel('Stations')\n",
    "plt.ylabel('# Trips')\n",
    "plt.legend()\n",
    "plt.grid(ls='--')"
   ]
  },
  {
   "cell_type": "code",
   "execution_count": null,
   "id": "6a626c5f",
   "metadata": {},
   "outputs": [],
   "source": [
    "# Input the data from the Bay area to evaluate\n",
    "# whether the model is preactical"
   ]
  },
  {
   "cell_type": "code",
   "execution_count": null,
   "id": "9f5995d8",
   "metadata": {},
   "outputs": [],
   "source": []
  },
  {
   "cell_type": "code",
   "execution_count": null,
   "id": "acc91af3",
   "metadata": {},
   "outputs": [],
   "source": []
  }
 ],
 "metadata": {
  "kernelspec": {
   "display_name": "bda_traff",
   "language": "python",
   "name": "bda_traff"
  },
  "language_info": {
   "codemirror_mode": {
    "name": "ipython",
    "version": 3
   },
   "file_extension": ".py",
   "mimetype": "text/x-python",
   "name": "python",
   "nbconvert_exporter": "python",
   "pygments_lexer": "ipython3",
   "version": "3.8.11"
  }
 },
 "nbformat": 4,
 "nbformat_minor": 5
}
