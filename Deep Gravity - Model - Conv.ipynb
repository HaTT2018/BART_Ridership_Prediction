{
 "cells": [
  {
   "cell_type": "code",
   "execution_count": 46,
   "id": "1509a047",
   "metadata": {},
   "outputs": [],
   "source": [
    "import numpy as np\n",
    "import pandas as pd\n",
    "import matplotlib.pyplot as plt\n",
    "import deep_gravity_utils as dgu\n",
    "import ipdb"
   ]
  },
  {
   "cell_type": "code",
   "execution_count": 47,
   "id": "8fb23df8",
   "metadata": {},
   "outputs": [],
   "source": [
    "dgu.setup_seed(12)"
   ]
  },
  {
   "cell_type": "markdown",
   "id": "9f6a9ed9",
   "metadata": {},
   "source": [
    "# Visualization of adjacency matrix (connectivity.csv)"
   ]
  },
  {
   "cell_type": "code",
   "execution_count": 48,
   "id": "d31dc964",
   "metadata": {},
   "outputs": [
    {
     "data": {
      "image/png": "[encoded data removed]",
      "text/plain": [
       "<Figure size 432x288 with 1 Axes>"
      ]
     },
     "metadata": {},
     "output_type": "display_data"
    }
   ],
   "source": [
    "import networkx as nx\n",
    "\n",
    "adj_mat = pd.read_csv('./data/connectivity.csv', index_col=0).to_numpy()[:48, :48]\n",
    "station_coor = pd.read_csv('./data/station-coor.csv', index_col=0).iloc[:48, :]\n",
    "\n",
    "pos0 = np.array(station_coor[['lon', 'lat']])\n",
    "npos = dict(zip(np.array(station_coor.index), pos0))  # 获取节点与坐标之间的映射关系，用字典表示\n",
    "\n",
    "G = nx.from_numpy_matrix(adj_mat)\n",
    "nx.draw(G, with_labels=True, pos=npos)"
   ]
  },
  {
   "cell_type": "markdown",
   "id": "c90ba8e8",
   "metadata": {},
   "source": [
    "## Reading data (daily)"
   ]
  },
  {
   "cell_type": "code",
   "execution_count": 49,
   "id": "a7b6f124",
   "metadata": {},
   "outputs": [
    {
     "name": "stdout",
     "output_type": "stream",
     "text": [
      "Year 2020\n"
     ]
    }
   ],
   "source": [
    "config = pd.read_csv('config.csv')\n",
    "year = config.loc[0, 'year']\n",
    "OD = np.load('./data/3d_%i_30days.npy'%year)[:48, :48]\n",
    "\n",
    "data_X_org = pd.read_csv('./data/data_X.csv', index_col=0).iloc[:48, :]\n",
    "adj_mat = pd.read_csv('./data/connectivity.csv', index_col=0).iloc[:48, :48].to_numpy()\n",
    "stops = pd.read_csv('./data/stops_order.csv', index_col=0).iloc[:48, :]\n",
    "\n",
    "print('Year', year)"
   ]
  },
  {
   "cell_type": "code",
   "execution_count": 50,
   "id": "6ca0ca34",
   "metadata": {},
   "outputs": [
    {
     "name": "stdout",
     "output_type": "stream",
     "text": [
      "Memory occupied 113.9062 MB\n"
     ]
    }
   ],
   "source": [
    "t_past = config.loc[0, 't_past']\n",
    "t_future = config.loc[0, 't_pre']\n",
    "OD_4d = dgu.const_4d_OD(OD, t_past, t_future)"
   ]
  },
  {
   "cell_type": "code",
   "execution_count": 51,
   "id": "6ebc6f93",
   "metadata": {},
   "outputs": [
    {
     "name": "stdout",
     "output_type": "stream",
     "text": [
      "(711, 9, 48, 48)\n",
      "(48, 21)\n",
      "(48, 48)\n",
      "(48, 1)\n"
     ]
    }
   ],
   "source": [
    "# daily ridership data\n",
    "print(OD_4d.shape)\n",
    "print(data_X_org.shape)\n",
    "print(adj_mat.shape)\n",
    "print(stops.shape)"
   ]
  },
  {
   "cell_type": "code",
   "execution_count": 52,
   "id": "0c222846",
   "metadata": {},
   "outputs": [
    {
     "name": "stdout",
     "output_type": "stream",
     "text": [
      "Input size is 48\n"
     ]
    }
   ],
   "source": [
    "# Initialization of hyper parameters\n",
    "inp_size = OD_4d.shape[-1]\n",
    "print('Input size is %i'%inp_size)"
   ]
  },
  {
   "cell_type": "markdown",
   "id": "c666fc92",
   "metadata": {},
   "source": [
    "# Gravity Model Inspired Neural Network (FC)"
   ]
  },
  {
   "cell_type": "code",
   "execution_count": 53,
   "id": "37b8df66",
   "metadata": {},
   "outputs": [],
   "source": [
    "import torch\n",
    "from torchvision import datasets, transforms\n",
    "import torch.nn as nn\n",
    "import torch.optim as optim\n",
    "from torchinfo import summary\n",
    "from torch.utils.data import TensorDataset"
   ]
  },
  {
   "cell_type": "code",
   "execution_count": 54,
   "id": "9630faca",
   "metadata": {},
   "outputs": [],
   "source": [
    "# Model specification\n",
    "class GraphRidershipNet(nn.Module):\n",
    "    def __init__(self, adj_mat, inp_size, inp_ch_size=4, t_future=2, feature_size=18, dropout_p=0.0):\n",
    "        super(GraphRidershipNet, self).__init__()\n",
    "        \n",
    "        self.adj_mat = adj_mat\n",
    "        self.inp_size = inp_size\n",
    "        self.inp_ch_size = inp_ch_size\n",
    "        self.feature_size = feature_size\n",
    "        self.t_future = t_future\n",
    "        \n",
    "        '''\n",
    "        self.e1 = nn.Sequential(\n",
    "            nn.Conv2d(in_channels=inp_ch_size, out_channels=32, kernel_size=5, stride=2, padding=1),\n",
    "            nn.ReLU(),\n",
    "            nn.Dropout(dropout_p)\n",
    "        )\n",
    "            \n",
    "        self.e2 = nn.Sequential(\n",
    "            nn.Conv2d(in_channels=32, out_channels=64, kernel_size=5, stride=2, padding=1),\n",
    "            nn.ReLU(),\n",
    "            nn.Dropout(dropout_p)\n",
    "        )\n",
    "        \n",
    "        self.e3 = nn.Sequential(\n",
    "            nn.Conv2d(in_channels=64, out_channels=128, kernel_size=3, stride=2, padding=0),\n",
    "            nn.ReLU(),\n",
    "            nn.Dropout(dropout_p),\n",
    "        )\n",
    "        \n",
    "        self.d3 = nn.Sequential(\n",
    "            nn.ConvTranspose2d(in_channels=128, out_channels=64, kernel_size=3, stride=2, padding=0),\n",
    "            nn.ReLU(),\n",
    "            nn.Dropout(dropout_p)\n",
    "        )\n",
    "            \n",
    "        self.d4 = nn.Sequential(\n",
    "            nn.ConvTranspose2d(in_channels=64, out_channels=32, kernel_size=5, stride=2, padding=1),\n",
    "            nn.ReLU(),\n",
    "            nn.Dropout(dropout_p)\n",
    "        )\n",
    "            \n",
    "        self.d5 = nn.Sequential(\n",
    "            nn.ConvTranspose2d(in_channels=32, out_channels=t_future, kernel_size=5, stride=2, padding=1),\n",
    "            nn.ReLU(),\n",
    "            nn.Dropout(dropout_p)\n",
    "        )\n",
    "        '''\n",
    "        self.conv_in = nn.Sequential(\n",
    "            nn.Conv2d(in_channels=inp_ch_size, out_channels=32, kernel_size=3, padding=1),\n",
    "            nn.ReLU(),\n",
    "            nn.Dropout(dropout_p),\n",
    "        )\n",
    "        self.conv1 = nn.Sequential(\n",
    "            nn.Conv2d(in_channels=32, out_channels=32, kernel_size=3, padding=1),\n",
    "            nn.ReLU(),\n",
    "            nn.Dropout(dropout_p)\n",
    "        )\n",
    "        self.conv_mid = nn.Sequential(\n",
    "            nn.Conv2d(in_channels=32, out_channels=16, kernel_size=3, padding=1),\n",
    "            nn.ReLU(),\n",
    "            nn.Dropout(dropout_p)\n",
    "        )\n",
    "        self.conv2 = nn.Sequential(\n",
    "            nn.Conv2d(in_channels=16, out_channels=16, kernel_size=3, padding=1),\n",
    "            nn.ReLU(),\n",
    "            nn.Dropout(dropout_p)\n",
    "        )\n",
    "        self.conv_out = nn.Sequential(\n",
    "            nn.Conv2d(in_channels=16, out_channels=t_future, kernel_size=3, padding=1),\n",
    "            nn.ReLU(),\n",
    "            nn.Dropout(dropout_p)\n",
    "        )\n",
    "        \n",
    "    def forward(self, x):\n",
    "        device = torch.device(\"cuda\" if torch.cuda.is_available() else \"cpu\")\n",
    "        '''\n",
    "        s = self.inp_size\n",
    "        f = self.feature_size\n",
    "        e1 = self.e1(x )\n",
    "        e2 = self.e2(e1)\n",
    "        e3 = self.e3(e2)\n",
    "        e4 = e3.view(-1, 128*(s//8)*(s//8))\n",
    "        e5 = nn.Linear(in_features=e4.shape[-1], out_features=f, device=device)(e4)  # hidden features\n",
    "\n",
    "        d1 = nn.Linear(in_features=f, out_features=128*(s//8)*(s//8), device=device)(e5)\n",
    "        d2 = d1.view(-1, 128, s//8, s//8)\n",
    "        d3 = self.d3(d2)\n",
    "        d4 = self.d4(d3)\n",
    "        d5 = torch.matmul(self.d5(d4), self.adj_mat)\n",
    "        '''\n",
    "        \n",
    "        x = self.conv_in(x)\n",
    "        x = self.conv1(x)\n",
    "        x = self.conv1(x)\n",
    "        x = self.conv_mid(x)\n",
    "        x = self.conv2(x)\n",
    "        x = self.conv_out(x)\n",
    "\n",
    "        return x\n",
    "    "
   ]
  },
  {
   "cell_type": "markdown",
   "id": "10b2a07a",
   "metadata": {},
   "source": [
    "## Train the model"
   ]
  },
  {
   "cell_type": "code",
   "execution_count": 55,
   "id": "e39342d9",
   "metadata": {},
   "outputs": [],
   "source": [
    "# #############################\n",
    "# Preparing data for PyTorch\n",
    "# #############################\n",
    "device = torch.device(\"cuda\" if torch.cuda.is_available() else \"cpu\")\n",
    "\n",
    "prop = config.loc[0, 'prop']\n",
    "l = int(OD_4d.shape[0]*prop)\n",
    "\n",
    "X_train = OD_4d[:l, :t_past, :, :]\n",
    "y_train = OD_4d[:l, t_past:, :, :]\n",
    "X_val = OD_4d[l:, :t_past, :, :]\n",
    "y_val = OD_4d[l:, t_past:, :, :]\n"
   ]
  },
  {
   "cell_type": "code",
   "execution_count": 56,
   "id": "905d3061",
   "metadata": {},
   "outputs": [],
   "source": [
    "X_train = torch.tensor(X_train, dtype=torch.float32).to(device)\n",
    "y_train = torch.tensor(y_train, dtype=torch.float32).to(device)\n",
    "X_val = torch.tensor(X_val, dtype=torch.float32).to(device)\n",
    "y_val = torch.tensor(y_val, dtype=torch.float32).to(device)\n",
    "\n",
    "batch_size = 256\n",
    "loader_train = torch.utils.data.DataLoader(\n",
    "    TensorDataset(X_train, y_train), batch_size, shuffle=True\n",
    ")\n",
    "\n",
    "iter_train = iter(loader_train)"
   ]
  },
  {
   "cell_type": "code",
   "execution_count": 57,
   "id": "404d889e",
   "metadata": {},
   "outputs": [
    {
     "name": "stdout",
     "output_type": "stream",
     "text": [
      "torch.Size([497, 5, 48, 48])\n",
      "torch.Size([497, 4, 48, 48])\n"
     ]
    }
   ],
   "source": [
    "print(X_train.shape)\n",
    "print(y_train.shape)\n"
   ]
  },
  {
   "cell_type": "code",
   "execution_count": 58,
   "id": "2f897297",
   "metadata": {},
   "outputs": [],
   "source": [
    "# Train the model by inputing \n",
    "# [land use data and trip data (demand at each region)] \n",
    "# to the model, then output one column of OD\n",
    "inp_ch_size = t_past\n",
    "model = GraphRidershipNet(adj_mat, inp_size, inp_ch_size, t_future, feature_size=data_X_org.shape[1]-3).to(device)\n",
    "loss_func = nn.MSELoss()\n",
    "loss_set_train = []\n",
    "loss_set_val = []\n",
    "hid_set = []\n"
   ]
  },
  {
   "cell_type": "code",
   "execution_count": 59,
   "id": "0d81247c",
   "metadata": {},
   "outputs": [],
   "source": [
    "optimizer = optim.Adam(model.parameters())"
   ]
  },
  {
   "cell_type": "code",
   "execution_count": 60,
   "id": "9b4bff08",
   "metadata": {
    "scrolled": true
   },
   "outputs": [],
   "source": [
    "# summary(model, [300,inp_ch_size,48,48])"
   ]
  },
  {
   "cell_type": "code",
   "execution_count": 61,
   "id": "7cb67a08",
   "metadata": {
    "scrolled": true
   },
   "outputs": [
    {
     "name": "stdout",
     "output_type": "stream",
     "text": [
      "Epoch 0   success, val loss:1.499409, train loss:1.592206\n",
      "Epoch 50   success, val loss:1.014056, train loss:1.184222\n",
      "Epoch 100   success, val loss:0.936664, train loss:1.281067\n",
      "Epoch 150   success, val loss:0.892447, train loss:1.111971\n",
      "Epoch 200   success, val loss:0.866438, train loss:0.888180\n",
      "Epoch 250   success, val loss:0.847026, train loss:0.947841\n",
      "Epoch 300   success, val loss:0.843884, train loss:1.014275\n",
      "Epoch 350   success, val loss:0.829916, train loss:1.003683\n",
      "Epoch 400   success, val loss:0.825323, train loss:1.077166\n",
      "Epoch 450   success, val loss:0.810940, train loss:0.950131\n",
      "Epoch 500   success, val loss:0.810578, train loss:0.863922\n",
      "Epoch 550   success, val loss:0.802071, train loss:0.978794\n",
      "Epoch 600   success, val loss:0.802951, train loss:1.038335\n",
      "Epoch 650   success, val loss:0.791653, train loss:1.000776\n",
      "Epoch 700   success, val loss:0.789767, train loss:0.923235\n",
      "Epoch 750   success, val loss:0.789874, train loss:0.887645\n",
      "Epoch 800   success, val loss:0.787464, train loss:0.840384\n",
      "Epoch 850   success, val loss:0.821449, train loss:0.979210\n",
      "Epoch 900   success, val loss:0.791090, train loss:0.994576\n",
      "Epoch 950   success, val loss:0.782057, train loss:0.892367\n",
      "Epoch 1000   success, val loss:0.819827, train loss:0.868785\n",
      "Epoch 1050   success, val loss:0.786554, train loss:0.772925\n",
      "Epoch 1100   success, val loss:0.778580, train loss:0.942471\n",
      "Epoch 1150   success, val loss:0.792095, train loss:0.941031\n",
      "Epoch 1200   success, val loss:0.776872, train loss:0.869124\n",
      "Epoch 1250   success, val loss:0.780425, train loss:0.860279\n",
      "Epoch 1300   success, val loss:0.786859, train loss:0.909928\n",
      "Epoch 1350   success, val loss:0.789928, train loss:0.910728\n",
      "Epoch 1400   success, val loss:0.782062, train loss:0.909738\n",
      "Epoch 1450   success, val loss:0.779104, train loss:0.845033\n",
      "Epoch 1500   success, val loss:0.781910, train loss:0.787978\n"
     ]
    }
   ],
   "source": [
    "model.train()\n",
    "\n",
    "epochs = 1500\n",
    "\n",
    "# assert len(src_loader) == len(tar_loader)\n",
    "   \n",
    "for e in range(epochs+1):\n",
    "    #ipdb.set_trace()\n",
    "    for i in range(len(loader_train)):\n",
    "        try:\n",
    "            X, y = iter_train.next()\n",
    "        except:\n",
    "            iter_train = iter(loader_train)\n",
    "            X, y = iter_train.next()\n",
    "        \n",
    "        out = model(X)\n",
    "#         ipdb.set_trace()\n",
    "        loss = loss_func(out, y)\n",
    "\n",
    "        optimizer.zero_grad()\n",
    "        loss.backward()\n",
    "        optimizer.step()\n",
    "\n",
    "    if e%50==0:\n",
    "        out_val = model(X_val)\n",
    "        loss_val = loss_func(out_val, y_val)\n",
    "        loss_set_val.append(loss_val.cpu().detach().numpy())\n",
    "        loss_set_train.append(loss.cpu().detach().numpy())\n",
    "    \n",
    "        print('Epoch %i   success, val loss:%.6f, train loss:%.6f'%(\n",
    "            e, loss_val.cpu().detach().numpy(), loss.cpu().detach().numpy()\n",
    "        ))\n",
    "        "
   ]
  },
  {
   "cell_type": "code",
   "execution_count": 62,
   "id": "8f4a5c1f",
   "metadata": {},
   "outputs": [],
   "source": [
    "def plot_loss(val, train, title):\n",
    "    fig = plt.figure()\n",
    "    ax1 = fig.add_subplot(121)\n",
    "    ax1.plot(val)\n",
    "    ax1.set_xlabel('Epoches/50')\n",
    "    ax1.set_ylabel('MSELoss')\n",
    "    ax1.set_ylim([0, max(val)])\n",
    "    ax1.set_title('Validation loss')\n",
    "    ax1.grid()\n",
    "    ax2 = fig.add_subplot(122)\n",
    "    ax2.plot(train)\n",
    "    ax2.set_xlabel('Epoches/50')\n",
    "    ax2.set_ylabel('MSELoss')\n",
    "    ax2.set_ylim([0, max(train)])\n",
    "    ax2.set_title('Training loss')\n",
    "    ax2.grid()\n",
    "    plt.suptitle(title)"
   ]
  },
  {
   "cell_type": "code",
   "execution_count": 63,
   "id": "72201ad6",
   "metadata": {},
   "outputs": [
    {
     "data": {
      "image/png": "[encoded data removed]",
      "text/plain": [
       "<Figure size 432x288 with 2 Axes>"
      ]
     },
     "metadata": {
      "needs_background": "light"
     },
     "output_type": "display_data"
    }
   ],
   "source": [
    "plot_loss(loss_set_val, loss_set_train, 'Loss')"
   ]
  },
  {
   "cell_type": "code",
   "execution_count": 64,
   "id": "ece8dcbb",
   "metadata": {},
   "outputs": [
    {
     "name": "stdout",
     "output_type": "stream",
     "text": [
      "(493056, 4)\n",
      "The mae loss is 0.6311\n",
      "The mape loss is 0.5895\n",
      "The smape loss is 1.7042\n",
      "The nrmse loss is 0.0108\n",
      "The nmae loss is 0.0060\n"
     ]
    },
    {
     "data": {
      "text/plain": [
       "<matplotlib.legend.Legend at 0x1a41278fe80>"
      ]
     },
     "execution_count": 64,
     "metadata": {},
     "output_type": "execute_result"
    },
    {
     "data": {
      "image/png": "[encoded data removed]",
      "text/plain": [
       "<Figure size 1440x432 with 1 Axes>"
      ]
     },
     "metadata": {
      "needs_background": "light"
     },
     "output_type": "display_data"
    }
   ],
   "source": [
    "h = t_future-1\n",
    "pred = out_val.cpu().detach().numpy()\n",
    "pred = np.transpose(pred, (1, 2, 3, 0)).reshape(t_future, -1).T\n",
    "np.save('./res/%.1f/conv_%i.npy'%(prop, year), pred)\n",
    "labels = y_val.cpu().detach().numpy()\n",
    "labels = np.transpose(labels, (1, 2, 3, 0)).reshape(t_future, -1).T\n",
    "print(pred.shape)\n",
    "\n",
    "m = config.loc[0, 'mask']\n",
    "\n",
    "print('The mae loss is %.4f'%dgu.mae_loss_func(pred, labels, m))\n",
    "print('The mape loss is %.4f'%dgu.mape_loss_func(pred, labels, m))\n",
    "print('The smape loss is %.4f'%dgu.smape_loss_func(pred, labels, m))\n",
    "print('The nrmse loss is %.4f'%dgu.nrmse_loss_func(pred, labels, m))\n",
    "print('The nmae loss is %.4f'%dgu.nmae_loss_func(pred, labels, m))\n",
    "\n",
    "plt.figure(figsize=[20, 6])\n",
    "plt.plot(labels[:, h], '-', label='true', c='b')\n",
    "plt.plot(pred[:, h], '-', label='pred', c='r', alpha=0.8)\n",
    "plt.legend()"
   ]
  },
  {
   "cell_type": "code",
   "execution_count": 65,
   "id": "287a3cb9",
   "metadata": {},
   "outputs": [
    {
     "name": "stdout",
     "output_type": "stream",
     "text": [
      "The mae loss is 26.3679\n",
      "The mape loss is 2.1535\n",
      "The smape loss is 0.6641\n",
      "The nrmse loss is 0.0392\n",
      "The nmae loss is 0.0266\n"
     ]
    },
    {
     "name": "stderr",
     "output_type": "stream",
     "text": [
      "C:\\Users\\10169\\Documents\\Github\\Deep_Gravity\\deep_gravity_utils.py:14: RuntimeWarning: divide by zero encountered in true_divide\n",
      "  return np.mean(eliminate_nan(np.fabs(labels[mask]-preds[mask])/labels[mask]))\n"
     ]
    },
    {
     "data": {
      "text/plain": [
       "Text(0.5, 1.0, 'Real OD')"
      ]
     },
     "execution_count": 65,
     "metadata": {},
     "output_type": "execute_result"
    },
    {
     "data": {
      "image/png": "[encoded data removed]",
      "text/plain": [
       "<Figure size 1440x720 with 2 Axes>"
      ]
     },
     "metadata": {
      "needs_background": "light"
     },
     "output_type": "display_data"
    }
   ],
   "source": [
    "pred = out_val.cpu().detach().numpy().sum(axis=0)\n",
    "labels = y_val.cpu().detach().numpy().sum(axis=0)\n",
    "\n",
    "m = config.loc[0, 'mask']\n",
    "\n",
    "print('The mae loss is %.4f'%dgu.mae_loss_func(pred, labels, m))\n",
    "print('The mape loss is %.4f'%dgu.mape_loss_func(pred, labels, m))\n",
    "print('The smape loss is %.4f'%dgu.smape_loss_func(pred, labels, m))\n",
    "print('The nrmse loss is %.4f'%dgu.nrmse_loss_func(pred, labels, m))\n",
    "print('The nmae loss is %.4f'%dgu.nmae_loss_func(pred, labels, m))\n",
    "\n",
    "fig = plt.figure(figsize=[20,10])\n",
    "\n",
    "ax1 = fig.add_subplot(121)\n",
    "ax1.imshow(pred[0,:,:])\n",
    "ax1.set_title('Predicted OD')\n",
    "\n",
    "ax2 = fig.add_subplot(122)\n",
    "ax2.imshow(labels[0,:,:])\n",
    "ax2.set_title('Real OD')"
   ]
  },
  {
   "cell_type": "code",
   "execution_count": 66,
   "id": "bd6e358b",
   "metadata": {},
   "outputs": [
    {
     "name": "stdout",
     "output_type": "stream",
     "text": [
      "CPC is 0.82899\n"
     ]
    }
   ],
   "source": [
    "print('CPC is %.5f'%dgu.get_CPC(pred, labels))"
   ]
  },
  {
   "cell_type": "code",
   "execution_count": 22,
   "id": "789bd188",
   "metadata": {},
   "outputs": [],
   "source": [
    "# torch.save(model.to('cpu').state_dict(), './models/model_48stations_conv.pth')"
   ]
  },
  {
   "cell_type": "markdown",
   "id": "0fcfd365",
   "metadata": {},
   "source": [
    "## Preliminary visualization of the prediction upon the validation dataset"
   ]
  },
  {
   "cell_type": "code",
   "execution_count": 24,
   "id": "5b8ab1b0",
   "metadata": {},
   "outputs": [],
   "source": [
    "device = torch.device(\"cuda\" if torch.cuda.is_available() else \"cpu\")\n",
    "prop = 0.7\n",
    "l = int(OD_4d.shape[0]*prop)\n",
    "\n",
    "X_val = torch.tensor(OD_4d[l:, :t_past, :, :], dtype=torch.float32).to(device)\n",
    "y_val = torch.tensor(OD_4d[l:, t_past:, :, :], dtype=torch.float32).to(device)\n",
    "\n",
    "model = GraphRidershipNet(adj_mat, inp_size, inp_ch_size, t_future, feature_size=data_X_org.shape[1]-3).to(device)\n",
    "model.load_state_dict(torch.load('./models/model_48stations_conv.pth'))\n",
    "model.eval()\n",
    "\n",
    "out_val = model(X_val)"
   ]
  },
  {
   "cell_type": "code",
   "execution_count": null,
   "id": "50c6dd0f",
   "metadata": {
    "scrolled": true
   },
   "outputs": [],
   "source": [
    "summary(model, [300,inp_ch_size,48,48]) "
   ]
  },
  {
   "cell_type": "code",
   "execution_count": null,
   "id": "9600a567",
   "metadata": {},
   "outputs": [],
   "source": [
    "fig = plt.figure(figsize=[20,10])\n",
    "\n",
    "ax1 = fig.add_subplot(121)\n",
    "ax1.imshow(out_val.cpu().detach().numpy().sum(axis=0)[0,:,:])\n",
    "ax1.set_title('Predicted OD')\n",
    "\n",
    "ax2 = fig.add_subplot(122)\n",
    "ax2.imshow(y_val.cpu().detach().numpy().sum(axis=0)[0,:,:])\n",
    "ax2.set_title('Real OD')"
   ]
  },
  {
   "cell_type": "code",
   "execution_count": null,
   "id": "6a626c5f",
   "metadata": {},
   "outputs": [],
   "source": [
    "# Input the data from the Bay area to evaluate\n",
    "# whether the model is practical"
   ]
  },
  {
   "cell_type": "code",
   "execution_count": null,
   "id": "36bbaaa6",
   "metadata": {},
   "outputs": [],
   "source": [
    "y_val.cpu().detach().numpy().sum(axis=0).shape"
   ]
  },
  {
   "cell_type": "code",
   "execution_count": null,
   "id": "9f5995d8",
   "metadata": {},
   "outputs": [],
   "source": [
    "pred = out_val.cpu().detach().numpy().sum(axis=0)\n",
    "labels = y_val.cpu().detach().numpy().sum(axis=0)\n",
    "\n",
    "m = config.loc[0, 'mask']\n",
    "\n",
    "print('The mae loss is %.4f'%dgu.mae_loss_func(pred, labels, m))\n",
    "print('The mape loss is %.4f'%dgu.mape_loss_func(pred, labels, m))\n",
    "print('The smape loss is %.4f'%dgu.smape_loss_func(pred, labels, m))\n",
    "print('The nrmse loss is %.4f'%dgu.nrmse_loss_func(pred, labels, m))\n",
    "print('The nmae loss is %.4f'%dgu.nmae_loss_func(pred, labels, m))\n",
    "\n"
   ]
  },
  {
   "cell_type": "markdown",
   "id": "a1a329c2",
   "metadata": {},
   "source": [
    "# Visualization of trips on map"
   ]
  },
  {
   "cell_type": "code",
   "execution_count": null,
   "id": "3f4622e5",
   "metadata": {},
   "outputs": [],
   "source": [
    "import geopandas as gpd"
   ]
  },
  {
   "cell_type": "code",
   "execution_count": null,
   "id": "4343da98",
   "metadata": {},
   "outputs": [],
   "source": [
    "data_X_all = gpd.read_file('./data/data_X_all.shp')"
   ]
  },
  {
   "cell_type": "code",
   "execution_count": null,
   "id": "78c6a0cc",
   "metadata": {},
   "outputs": [],
   "source": [
    "data_X_all.head(2)"
   ]
  },
  {
   "cell_type": "code",
   "execution_count": null,
   "id": "662c4435",
   "metadata": {},
   "outputs": [],
   "source": [
    "bart_coor = pd.read_csv('./data/station-coor.csv', index_col=0)\n",
    "bart_coor.head(2)"
   ]
  },
  {
   "cell_type": "code",
   "execution_count": null,
   "id": "a124878b",
   "metadata": {
    "scrolled": false
   },
   "outputs": [],
   "source": [
    "pred = out_val.cpu().detach().numpy().sum(axis=0)[0, :, :]\n",
    "labels = y_val.cpu().detach().numpy().sum(axis=0)[0, :, :]\n",
    "\n",
    "fig = plt.figure(figsize=[20, 10], dpi=75)\n",
    "ax0 = fig.add_subplot(121)\n",
    "ax0.set_title('Prediction')\n",
    "ax1 = fig.add_subplot(122)\n",
    "ax1.set_title('Ground Truth')\n",
    "\n",
    "data_X_all.plot(column='TotPop', ax=ax0, cmap='RdPu')\n",
    "data_X_all.plot(column='TotPop', ax=ax1, cmap='RdPu')\n",
    "\n",
    "# plot trips\n",
    "num_pred_stations = pred.shape[0] // 50  # 50 means that there are 50 stations in total\n",
    "pred_stations = stops.iloc[-num_pred_stations:, 0]\n",
    "\n",
    "low_lon_pred_dest = []\n",
    "low_lat_pred_dest = []\n",
    "mid_lon_pred_dest = []\n",
    "mid_lat_pred_dest = []\n",
    "high_lon_pred_dest = []\n",
    "high_lat_pred_dest = []\n",
    "low_lon_pred_origin = []\n",
    "low_lat_pred_origin = []\n",
    "mid_lon_pred_origin = []\n",
    "mid_lat_pred_origin = []\n",
    "high_lon_pred_origin = []\n",
    "high_lat_pred_origin = []\n",
    "\n",
    "low_lon_labels_dest = []\n",
    "low_lat_labels_dest = []\n",
    "mid_lon_labels_dest = []\n",
    "mid_lat_labels_dest = []\n",
    "high_lon_labels_dest = []\n",
    "high_lat_labels_dest = []\n",
    "low_lon_labels_origin = []\n",
    "low_lat_labels_origin = []\n",
    "mid_lon_labels_origin = []\n",
    "mid_lat_labels_origin = []\n",
    "high_lon_labels_origin = []\n",
    "high_lat_labels_origin = []\n",
    "\n",
    "for i in pred_stations.index:\n",
    "    station_dest = pred_stations.loc[i]\n",
    "    for j in stops.index:\n",
    "        station_origin = stops.loc[j, 'stop']\n",
    "        \n",
    "        lon_origin = bart_coor.loc[bart_coor['abbr']==station_origin, 'lon'].values[0]\n",
    "        lat_origin = bart_coor.loc[bart_coor['abbr']==station_origin, 'lat'].values[0]\n",
    "        lon_dest = bart_coor.loc[bart_coor['abbr']==station_dest, 'lon'].values[0]\n",
    "        lat_dest = bart_coor.loc[bart_coor['abbr']==station_dest, 'lat'].values[0]\n",
    "        \n",
    "        dest_ind = i\n",
    "        origin_ind = j\n",
    "        \n",
    "        if pred[origin_ind, dest_ind]-pred.min()<(pred.max()-pred.min())*0.3:\n",
    "            low_lon_pred_dest.append(lon_dest)\n",
    "            low_lat_pred_dest.append(lat_dest)\n",
    "            low_lon_pred_origin.append(lon_origin)\n",
    "            low_lat_pred_origin.append(lat_origin)\n",
    "#             ax0.plot([lon_origin, lon_dest], [lat_origin, lat_dest], 'b', lw=0.1)\n",
    "        elif pred[origin_ind, dest_ind]-pred.min()>=(pred.max()-pred.min())*0.3 and pred[origin_ind, dest_ind]-pred.min()<(pred.max()-pred.min())*0.6:\n",
    "            mid_lon_pred_dest.append(lon_dest)\n",
    "            mid_lat_pred_dest.append(lat_dest)\n",
    "            mid_lon_pred_origin.append(lon_origin)\n",
    "            mid_lat_pred_origin.append(lat_origin)\n",
    "#             ax0.plot([lon_origin, lon_dest], [lat_origin, lat_dest], 'red', lw=0.6)\n",
    "        elif pred[origin_ind, dest_ind]-pred.min()>=(pred.max()-pred.min())*0.6:\n",
    "            high_lon_pred_dest.append(lon_dest)\n",
    "            high_lat_pred_dest.append(lat_dest)\n",
    "            high_lon_pred_origin.append(lon_origin)\n",
    "            high_lat_pred_origin.append(lat_origin)\n",
    "#             ax0.plot([lon_origin, lon_dest], [lat_origin, lat_dest], 'yellow', lw=2)\n",
    "        \n",
    "        if labels[origin_ind, dest_ind]-labels.min()<(labels.max()-labels.min())*0.3:\n",
    "            low_lon_labels_dest.append(lon_dest)\n",
    "            low_lat_labels_dest.append(lat_dest)\n",
    "            low_lon_labels_origin.append(lon_origin)\n",
    "            low_lat_labels_origin.append(lat_origin)\n",
    "#             ax1.plot([lon_origin, lon_dest], [lat_origin, lat_dest], 'b', lw=0.1)\n",
    "        elif labels[origin_ind, dest_ind]-labels.min()>=(labels.max()-labels.min())*0.3 and labels[origin_ind, dest_ind]-labels.min()<(labels.max()-labels.min())*0.6:\n",
    "            mid_lon_labels_dest.append(lon_dest)\n",
    "            mid_lat_labels_dest.append(lat_dest)\n",
    "            mid_lon_labels_origin.append(lon_origin)\n",
    "            mid_lat_labels_origin.append(lat_origin)\n",
    "#             ax1.plot([lon_origin, lon_dest], [lat_origin, lat_dest], 'red', lw=0.6)\n",
    "        elif labels[origin_ind, dest_ind]-labels.min()>=(labels.max()-labels.min())*0.6:\n",
    "            high_lon_labels_dest.append(lon_dest)\n",
    "            high_lat_labels_dest.append(lat_dest)\n",
    "            high_lon_labels_origin.append(lon_origin)\n",
    "            high_lat_labels_origin.append(lat_origin)\n",
    "#             ax1.plot([lon_origin, lon_dest], [lat_origin, lat_dest], 'yellow', lw=2)\n",
    "\n",
    "for i in range(len(low_lon_pred_dest)):\n",
    "    ax0.plot([low_lon_pred_origin[i], low_lon_pred_dest[i]], [low_lat_pred_origin[i], low_lat_pred_dest[i]], 'b', lw=0.3)\n",
    "    \n",
    "for i in range(len(mid_lon_pred_dest)):\n",
    "    ax0.plot([mid_lon_pred_origin[i], mid_lon_pred_dest[i]], [mid_lat_pred_origin[i], mid_lat_pred_dest[i]], 'red', lw=1)\n",
    "    \n",
    "for i in range(len(high_lon_pred_dest)):\n",
    "    ax0.plot([high_lon_pred_origin[i], high_lon_pred_dest[i]], [high_lat_pred_origin[i], high_lat_pred_dest[i]], 'yellow', lw=1.5)\n",
    "\n",
    "for i in range(len(low_lon_labels_dest)):\n",
    "    ax1.plot([low_lon_labels_origin[i], low_lon_labels_dest[i]], [low_lat_labels_origin[i], low_lat_labels_dest[i]], 'b', lw=0.3)\n",
    "    \n",
    "for i in range(len(mid_lon_labels_dest)):\n",
    "    ax1.plot([mid_lon_labels_origin[i], mid_lon_labels_dest[i]], [mid_lat_labels_origin[i], mid_lat_labels_dest[i]], 'red', lw=1)\n",
    "    \n",
    "for i in range(len(high_lon_labels_dest)):\n",
    "    ax1.plot([high_lon_labels_origin[i], high_lon_labels_dest[i]], [high_lat_labels_origin[i], high_lat_labels_dest[i]], 'yellow', lw=1.5)\n",
    "\n",
    "\n",
    "\n",
    "# plot stations\n",
    "for i in bart_coor.index:\n",
    "    lon = bart_coor.loc[i, 'lon']\n",
    "    lat = bart_coor.loc[i, 'lat']\n",
    "    ax0.plot(lon, lat, 'r.')\n",
    "    ax1.plot(lon, lat, 'r.')\n",
    "\n"
   ]
  },
  {
   "cell_type": "code",
   "execution_count": null,
   "id": "ddfb1543",
   "metadata": {},
   "outputs": [],
   "source": [
    "# fig.savefig('./outputs/comp.jpg', dpi=700)"
   ]
  }
 ],
 "metadata": {
  "kernelspec": {
   "display_name": "bda_traff",
   "language": "python",
   "name": "bda_traff"
  },
  "language_info": {
   "codemirror_mode": {
    "name": "ipython",
    "version": 3
   },
   "file_extension": ".py",
   "mimetype": "text/x-python",
   "name": "python",
   "nbconvert_exporter": "python",
   "pygments_lexer": "ipython3",
   "version": "3.8.11"
  }
 },
 "nbformat": 4,
 "nbformat_minor": 5
}
