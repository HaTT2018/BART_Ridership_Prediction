{
 "cells": [
  {
   "cell_type": "code",
   "execution_count": 17,
   "id": "1509a047",
   "metadata": {},
   "outputs": [],
   "source": [
    "import numpy as np\n",
    "import pandas as pd\n",
    "import matplotlib.pyplot as plt\n",
    "import deep_gravity_utils as dgu\n",
    "import ipdb"
   ]
  },
  {
   "cell_type": "code",
   "execution_count": 18,
   "id": "8fb23df8",
   "metadata": {},
   "outputs": [],
   "source": [
    "dgu.setup_seed(12)"
   ]
  },
  {
   "cell_type": "markdown",
   "id": "9f6a9ed9",
   "metadata": {},
   "source": [
    "# Visualization of adjacency matrix (connectivity.csv)"
   ]
  },
  {
   "cell_type": "code",
   "execution_count": 19,
   "id": "d31dc964",
   "metadata": {},
   "outputs": [
    {
     "data": {
      "image/png": "[encoded data removed]",
      "text/plain": [
       "<Figure size 432x288 with 1 Axes>"
      ]
     },
     "metadata": {},
     "output_type": "display_data"
    }
   ],
   "source": [
    "import networkx as nx\n",
    "\n",
    "adj_mat = pd.read_csv('./data/connectivity.csv', index_col=0).to_numpy()[:48, :48]\n",
    "station_coor = pd.read_csv('./data/station-coor.csv', index_col=0).iloc[:48, :]\n",
    "\n",
    "pos0 = np.array(station_coor[['lon', 'lat']])\n",
    "npos = dict(zip(np.array(station_coor.index), pos0))  # 获取节点与坐标之间的映射关系，用字典表示\n",
    "\n",
    "G = nx.from_numpy_matrix(adj_mat)\n",
    "nx.draw(G, with_labels=True, pos=npos)"
   ]
  },
  {
   "cell_type": "markdown",
   "id": "c90ba8e8",
   "metadata": {},
   "source": [
    "## Reading data (daily)"
   ]
  },
  {
   "cell_type": "code",
   "execution_count": 20,
   "id": "a7b6f124",
   "metadata": {},
   "outputs": [],
   "source": [
    "OD = np.load('./data/3d_daily.npy')[:48, :48]\n",
    "OD = np.transpose(OD, (2, 0, 1))[:, np.newaxis, :, :]\n",
    "\n",
    "data_X_org = pd.read_csv('./data/data_X.csv', index_col=0).iloc[:48, :]\n",
    "adj_mat = pd.read_csv('./data/connectivity.csv', index_col=0).iloc[:48, :48].to_numpy()\n",
    "stops = pd.read_csv('./data/stops_order.csv', index_col=0).iloc[:48, :]\n",
    "\n"
   ]
  },
  {
   "cell_type": "code",
   "execution_count": 21,
   "id": "007c7799",
   "metadata": {},
   "outputs": [],
   "source": [
    "def const_4d_OD(OD, t_past=4, t_future=2):\n",
    "    OD_4d = np.zeros(OD.shape)\n",
    "    OD_4d = np.repeat(OD_4d, t_past+t_future+1, axis=1)  # past t_past days plus the same day on last week\n",
    "    for i in range(t_past + t_future + 7, OD.shape[0]):\n",
    "        OD_4d[i, :-1, :, :] = OD[i-t_past-t_future:i, 0, :, :]\n",
    "        OD_4d[i, -1, :, :] = OD[i-7, 0, :, :]\n",
    "        \n",
    "    print('Memory occupied %.4f MB'%((OD_4d.size * OD_4d.itemsize)/1024**2) )\n",
    "    \n",
    "    return OD_4d[t_past + 7:,:,:,:]"
   ]
  },
  {
   "cell_type": "code",
   "execution_count": 22,
   "id": "6ca0ca34",
   "metadata": {},
   "outputs": [
    {
     "name": "stdout",
     "output_type": "stream",
     "text": [
      "Memory occupied 44.9121 MB\n"
     ]
    }
   ],
   "source": [
    "t_past = 2\n",
    "t_future = 4\n",
    "OD_4d = const_4d_OD(OD, t_past, t_future)"
   ]
  },
  {
   "cell_type": "code",
   "execution_count": 23,
   "id": "6ebc6f93",
   "metadata": {},
   "outputs": [
    {
     "name": "stdout",
     "output_type": "stream",
     "text": [
      "(356, 7, 48, 48)\n",
      "(48, 21)\n",
      "(48, 48)\n",
      "(48, 1)\n"
     ]
    }
   ],
   "source": [
    "# daily ridership data\n",
    "print(OD_4d.shape)\n",
    "print(data_X_org.shape)\n",
    "print(adj_mat.shape)\n",
    "print(stops.shape)"
   ]
  },
  {
   "cell_type": "code",
   "execution_count": 24,
   "id": "0c222846",
   "metadata": {},
   "outputs": [
    {
     "name": "stdout",
     "output_type": "stream",
     "text": [
      "Input size is 48\n"
     ]
    }
   ],
   "source": [
    "# Initialization of hyper parameters\n",
    "inp_size = OD_4d.shape[-1]\n",
    "print('Input size is %i'%inp_size)"
   ]
  },
  {
   "cell_type": "markdown",
   "id": "c666fc92",
   "metadata": {},
   "source": [
    "# Gravity Model Inspired Neural Network (FC)"
   ]
  },
  {
   "cell_type": "code",
   "execution_count": 25,
   "id": "37b8df66",
   "metadata": {},
   "outputs": [],
   "source": [
    "import torch\n",
    "from torchvision import datasets, transforms\n",
    "import torch.nn as nn\n",
    "import torch.optim as optim\n",
    "from torchinfo import summary\n",
    "from torch.utils.data import TensorDataset"
   ]
  },
  {
   "cell_type": "code",
   "execution_count": 26,
   "id": "9630faca",
   "metadata": {},
   "outputs": [],
   "source": [
    "# Model specification\n",
    "class GraphRidershipNet(nn.Module):\n",
    "    def __init__(self, adj_mat, inp_size, inp_ch_size=4, t_future=2, feature_size=18, dropout_p=0.0):\n",
    "        super(GraphRidershipNet, self).__init__()\n",
    "        \n",
    "        self.adj_mat = adj_mat\n",
    "        self.inp_size = inp_size\n",
    "        self.inp_ch_size = inp_ch_size\n",
    "        self.feature_size = feature_size\n",
    "        self.t_future = t_future\n",
    "        \n",
    "        '''\n",
    "        self.e1 = nn.Sequential(\n",
    "            nn.Conv2d(in_channels=inp_ch_size, out_channels=32, kernel_size=5, stride=2, padding=1),\n",
    "            nn.ReLU(),\n",
    "            nn.Dropout(dropout_p)\n",
    "        )\n",
    "            \n",
    "        self.e2 = nn.Sequential(\n",
    "            nn.Conv2d(in_channels=32, out_channels=64, kernel_size=5, stride=2, padding=1),\n",
    "            nn.ReLU(),\n",
    "            nn.Dropout(dropout_p)\n",
    "        )\n",
    "        \n",
    "        self.e3 = nn.Sequential(\n",
    "            nn.Conv2d(in_channels=64, out_channels=128, kernel_size=3, stride=2, padding=0),\n",
    "            nn.ReLU(),\n",
    "            nn.Dropout(dropout_p),\n",
    "        )\n",
    "        \n",
    "        self.d3 = nn.Sequential(\n",
    "            nn.ConvTranspose2d(in_channels=128, out_channels=64, kernel_size=3, stride=2, padding=0),\n",
    "            nn.ReLU(),\n",
    "            nn.Dropout(dropout_p)\n",
    "        )\n",
    "            \n",
    "        self.d4 = nn.Sequential(\n",
    "            nn.ConvTranspose2d(in_channels=64, out_channels=32, kernel_size=5, stride=2, padding=1),\n",
    "            nn.ReLU(),\n",
    "            nn.Dropout(dropout_p)\n",
    "        )\n",
    "            \n",
    "        self.d5 = nn.Sequential(\n",
    "            nn.ConvTranspose2d(in_channels=32, out_channels=t_future, kernel_size=5, stride=2, padding=1),\n",
    "            nn.ReLU(),\n",
    "            nn.Dropout(dropout_p)\n",
    "        )\n",
    "        '''\n",
    "        self.conv_in = nn.Sequential(\n",
    "            nn.Conv2d(in_channels=inp_ch_size, out_channels=32, kernel_size=3, padding=1),\n",
    "            nn.ReLU(),\n",
    "            nn.Dropout(dropout_p),\n",
    "        )\n",
    "        self.conv1 = nn.Sequential(\n",
    "            nn.Conv2d(in_channels=32, out_channels=32, kernel_size=3, padding=1),\n",
    "            nn.ReLU(),\n",
    "            nn.Dropout(dropout_p)\n",
    "        )\n",
    "        self.conv_mid = nn.Sequential(\n",
    "            nn.Conv2d(in_channels=32, out_channels=16, kernel_size=3, padding=1),\n",
    "            nn.ReLU(),\n",
    "            nn.Dropout(dropout_p)\n",
    "        )\n",
    "        self.conv2 = nn.Sequential(\n",
    "            nn.Conv2d(in_channels=16, out_channels=16, kernel_size=3, padding=1),\n",
    "            nn.ReLU(),\n",
    "            nn.Dropout(dropout_p)\n",
    "        )\n",
    "        self.conv_out = nn.Sequential(\n",
    "            nn.Conv2d(in_channels=16, out_channels=t_future, kernel_size=3, padding=1),\n",
    "            nn.ReLU(),\n",
    "            nn.Dropout(dropout_p)\n",
    "        )\n",
    "        \n",
    "    def forward(self, x):\n",
    "        device = torch.device(\"cuda\" if torch.cuda.is_available() else \"cpu\")\n",
    "        '''\n",
    "        s = self.inp_size\n",
    "        f = self.feature_size\n",
    "        e1 = self.e1(x )\n",
    "        e2 = self.e2(e1)\n",
    "        e3 = self.e3(e2)\n",
    "        e4 = e3.view(-1, 128*(s//8)*(s//8))\n",
    "        e5 = nn.Linear(in_features=e4.shape[-1], out_features=f, device=device)(e4)  # hidden features\n",
    "\n",
    "        d1 = nn.Linear(in_features=f, out_features=128*(s//8)*(s//8), device=device)(e5)\n",
    "        d2 = d1.view(-1, 128, s//8, s//8)\n",
    "        d3 = self.d3(d2)\n",
    "        d4 = self.d4(d3)\n",
    "        d5 = torch.matmul(self.d5(d4), self.adj_mat)\n",
    "        '''\n",
    "        \n",
    "        x = self.conv_in(x)\n",
    "        x = self.conv1(x)\n",
    "        x = self.conv1(x)\n",
    "        x = self.conv_mid(x)\n",
    "        x = self.conv2(x)\n",
    "        x = self.conv_out(x)\n",
    "\n",
    "        return x\n",
    "    "
   ]
  },
  {
   "cell_type": "markdown",
   "id": "10b2a07a",
   "metadata": {},
   "source": [
    "## Train the model"
   ]
  },
  {
   "cell_type": "code",
   "execution_count": 27,
   "id": "e39342d9",
   "metadata": {},
   "outputs": [],
   "source": [
    "# #############################\n",
    "# Preparing data for PyTorch\n",
    "# #############################\n",
    "device = torch.device(\"cuda\" if torch.cuda.is_available() else \"cpu\")\n",
    "\n",
    "prop = 0.5\n",
    "l = int(OD_4d.shape[0]*prop)\n",
    "\n",
    "X_train = torch.tensor(OD_4d[:l, :t_past+1, :, :], dtype=torch.float32).to(device)\n",
    "y_train = torch.tensor(OD_4d[:l, t_past+1:, :, :], dtype=torch.float32).to(device)\n",
    "X_val = torch.tensor(OD_4d[l:, :t_past+1, :, :], dtype=torch.float32).to(device)\n",
    "y_val = torch.tensor(OD_4d[l:, t_past+1:, :, :], dtype=torch.float32).to(device)\n",
    "adj_mat = torch.tensor(adj_mat, dtype=torch.float32).to(device)\n",
    "\n",
    "batch_size = 365\n",
    "loader_train = torch.utils.data.DataLoader(\n",
    "    TensorDataset(X_train, y_train), batch_size, shuffle=True\n",
    ")\n",
    "\n",
    "iter_train = iter(loader_train)\n"
   ]
  },
  {
   "cell_type": "code",
   "execution_count": 28,
   "id": "404d889e",
   "metadata": {},
   "outputs": [
    {
     "name": "stdout",
     "output_type": "stream",
     "text": [
      "torch.Size([178, 3, 48, 48])\n",
      "torch.Size([178, 4, 48, 48])\n"
     ]
    }
   ],
   "source": [
    "print(X_train.shape)\n",
    "print(y_train.shape)\n"
   ]
  },
  {
   "cell_type": "code",
   "execution_count": 29,
   "id": "2f897297",
   "metadata": {},
   "outputs": [],
   "source": [
    "# Train the model by inputing \n",
    "# [land use data and trip data (demand at each region)] \n",
    "# to the model, then output one column of OD\n",
    "inp_ch_size = t_past + 1\n",
    "model = GraphRidershipNet(adj_mat, inp_size, inp_ch_size, t_future, feature_size=data_X_org.shape[1]-3).to(device)\n",
    "loss_func = nn.MSELoss()\n",
    "loss_set_train = []\n",
    "loss_set_val = []\n",
    "hid_set = []\n"
   ]
  },
  {
   "cell_type": "code",
   "execution_count": 30,
   "id": "0d81247c",
   "metadata": {},
   "outputs": [],
   "source": [
    "optimizer = optim.Adam(model.parameters())"
   ]
  },
  {
   "cell_type": "code",
   "execution_count": 31,
   "id": "9b4bff08",
   "metadata": {
    "scrolled": true
   },
   "outputs": [],
   "source": [
    "# summary(model, [300,inp_ch_size,48,48])"
   ]
  },
  {
   "cell_type": "code",
   "execution_count": 32,
   "id": "7cb67a08",
   "metadata": {},
   "outputs": [
    {
     "name": "stdout",
     "output_type": "stream",
     "text": [
      "Epoch 0   success, val loss:100019.875000, train loss:101025.023438\n",
      "Epoch 50   success, val loss:42301.640625, train loss:42680.527344\n",
      "Epoch 100   success, val loss:21259.326172, train loss:19594.958984\n",
      "Epoch 150   success, val loss:15961.655273, train loss:13487.540039\n",
      "Epoch 200   success, val loss:13934.019531, train loss:11104.567383\n",
      "Epoch 250   success, val loss:12808.508789, train loss:9851.070312\n",
      "Epoch 300   success, val loss:12275.611328, train loss:9295.280273\n",
      "Epoch 350   success, val loss:12180.710938, train loss:9026.094727\n",
      "Epoch 400   success, val loss:11852.786133, train loss:8655.319336\n",
      "Epoch 450   success, val loss:11775.587891, train loss:8813.391602\n",
      "Epoch 500   success, val loss:11459.498047, train loss:8228.120117\n",
      "Epoch 550   success, val loss:11359.776367, train loss:8074.929688\n",
      "Epoch 600   success, val loss:11101.374023, train loss:7858.444336\n",
      "Epoch 650   success, val loss:11073.017578, train loss:7714.406738\n",
      "Epoch 700   success, val loss:10784.384766, train loss:7558.242188\n",
      "Epoch 750   success, val loss:10589.521484, train loss:7378.519043\n",
      "Epoch 800   success, val loss:10603.021484, train loss:7492.594238\n",
      "Epoch 850   success, val loss:10505.525391, train loss:7128.281250\n",
      "Epoch 900   success, val loss:10327.929688, train loss:6997.942383\n",
      "Epoch 950   success, val loss:10371.847656, train loss:7004.284668\n",
      "Epoch 1000   success, val loss:10203.882812, train loss:6863.704102\n",
      "Epoch 1050   success, val loss:10038.825195, train loss:6637.821289\n",
      "Epoch 1100   success, val loss:10130.664062, train loss:6718.878906\n",
      "Epoch 1150   success, val loss:9903.444336, train loss:6489.045898\n",
      "Epoch 1200   success, val loss:10001.708984, train loss:6452.148438\n",
      "Epoch 1250   success, val loss:9671.875977, train loss:6301.571777\n",
      "Epoch 1300   success, val loss:9790.829102, train loss:6374.372559\n",
      "Epoch 1350   success, val loss:9609.953125, train loss:6143.098633\n",
      "Epoch 1400   success, val loss:9635.309570, train loss:6119.813965\n",
      "Epoch 1450   success, val loss:9498.029297, train loss:6021.483887\n",
      "Epoch 1500   success, val loss:9408.511719, train loss:6012.020020\n"
     ]
    }
   ],
   "source": [
    "model.train()\n",
    "\n",
    "epochs = 1500\n",
    "\n",
    "# assert len(src_loader) == len(tar_loader)\n",
    "   \n",
    "for e in range(epochs+1):\n",
    "    #ipdb.set_trace()\n",
    "    for i in range(len(loader_train)):\n",
    "        try:\n",
    "            X, y = iter_train.next()\n",
    "        except:\n",
    "            iter_train = iter(loader_train)\n",
    "            X, y = iter_train.next()\n",
    "        \n",
    "        out = model(X)\n",
    "#         ipdb.set_trace()\n",
    "        loss = loss_func(out, y)\n",
    "\n",
    "        optimizer.zero_grad()\n",
    "        loss.backward()\n",
    "        optimizer.step()\n",
    "\n",
    "    if e%50==0:\n",
    "        out_val = model(X_val)\n",
    "        loss_val = loss_func(out_val, y_val)\n",
    "        loss_set_val.append(loss_val.cpu().detach().numpy())\n",
    "        loss_set_train.append(loss.cpu().detach().numpy())\n",
    "    \n",
    "        print('Epoch %i   success, val loss:%.6f, train loss:%.6f'%(\n",
    "            e, loss_val.cpu().detach().numpy(), loss.cpu().detach().numpy()\n",
    "        ))\n",
    "        "
   ]
  },
  {
   "cell_type": "code",
   "execution_count": 33,
   "id": "8f4a5c1f",
   "metadata": {},
   "outputs": [],
   "source": [
    "def plot_loss(val, train, title):\n",
    "    fig = plt.figure()\n",
    "    ax1 = fig.add_subplot(121)\n",
    "    ax1.plot(val)\n",
    "    ax1.set_xlabel('Epoches/50')\n",
    "    ax1.set_ylabel('MSELoss')\n",
    "    ax1.set_ylim([0, max(val)])\n",
    "    ax1.set_title('Validation loss')\n",
    "    ax1.grid()\n",
    "    ax2 = fig.add_subplot(122)\n",
    "    ax2.plot(train)\n",
    "    ax2.set_xlabel('Epoches/50')\n",
    "    ax2.set_ylabel('MSELoss')\n",
    "    ax2.set_ylim([0, max(train)])\n",
    "    ax2.set_title('Training loss')\n",
    "    ax2.grid()\n",
    "    plt.suptitle(title)"
   ]
  },
  {
   "cell_type": "code",
   "execution_count": 34,
   "id": "72201ad6",
   "metadata": {},
   "outputs": [
    {
     "data": {
      "image/png": "[encoded data removed]",
      "text/plain": [
       "<Figure size 432x288 with 2 Axes>"
      ]
     },
     "metadata": {
      "needs_background": "light"
     },
     "output_type": "display_data"
    }
   ],
   "source": [
    "plot_loss(loss_set_val, loss_set_train, 'Loss')"
   ]
  },
  {
   "cell_type": "code",
   "execution_count": 39,
   "id": "287a3cb9",
   "metadata": {},
   "outputs": [
    {
     "name": "stdout",
     "output_type": "stream",
     "text": [
      "The mae loss is 2078.6094\n",
      "The mape loss is 0.3466\n",
      "The smape loss is 0.4032\n",
      "The nrmse loss is 0.0085\n",
      "The nmae loss is 0.0059\n"
     ]
    },
    {
     "data": {
      "text/plain": [
       "Text(0.5, 1.0, 'Real OD')"
      ]
     },
     "execution_count": 39,
     "metadata": {},
     "output_type": "execute_result"
    },
    {
     "data": {
      "image/png": "[encoded data removed]",
      "text/plain": [
       "<Figure size 1440x720 with 2 Axes>"
      ]
     },
     "metadata": {
      "needs_background": "light"
     },
     "output_type": "display_data"
    }
   ],
   "source": [
    "pred = out_val.cpu().detach().numpy().sum(axis=0)\n",
    "labels = y_val.cpu().detach().numpy().sum(axis=0)\n",
    "\n",
    "m = 0.\n",
    "\n",
    "print('The mae loss is %.4f'%dgu.mae_loss_func(pred, labels, m))\n",
    "print('The mape loss is %.4f'%dgu.mape_loss_func(pred, labels, m))\n",
    "print('The smape loss is %.4f'%dgu.smape_loss_func(pred, labels, m))\n",
    "print('The nrmse loss is %.4f'%dgu.nrmse_loss_func(pred, labels, m))\n",
    "print('The nmae loss is %.4f'%dgu.nmae_loss_func(pred, labels, m))\n",
    "\n",
    "fig = plt.figure(figsize=[20,10])\n",
    "\n",
    "ax1 = fig.add_subplot(121)\n",
    "ax1.imshow(pred[0,:,:])\n",
    "ax1.set_title('Predicted OD')\n",
    "\n",
    "ax2 = fig.add_subplot(122)\n",
    "ax2.imshow(labels[0,:,:])\n",
    "ax2.set_title('Real OD')"
   ]
  },
  {
   "cell_type": "code",
   "execution_count": 40,
   "id": "bd6e358b",
   "metadata": {},
   "outputs": [
    {
     "name": "stdout",
     "output_type": "stream",
     "text": [
      "CPC is 0.95773\n"
     ]
    }
   ],
   "source": [
    "print('CPC is %.5f'%dgu.get_CPC(pred, labels))"
   ]
  },
  {
   "cell_type": "code",
   "execution_count": null,
   "id": "789bd188",
   "metadata": {},
   "outputs": [],
   "source": [
    "torch.save(model.to('cpu').state_dict(), './models/model_48stations_conv.pth')"
   ]
  },
  {
   "cell_type": "markdown",
   "id": "0fcfd365",
   "metadata": {},
   "source": [
    "## Preliminary visualization of the prediction upon the validation dataset"
   ]
  },
  {
   "cell_type": "code",
   "execution_count": null,
   "id": "5b8ab1b0",
   "metadata": {},
   "outputs": [],
   "source": [
    "device = torch.device(\"cuda\" if torch.cuda.is_available() else \"cpu\")\n",
    "prop = 0.7\n",
    "l = int(OD_4d.shape[0]*prop)\n",
    "\n",
    "X_val = torch.tensor(OD_4d[l:, :t_past+1, :, :], dtype=torch.float32).to(device)\n",
    "y_val = torch.tensor(OD_4d[l:, t_past+1:, :, :], dtype=torch.float32).to(device)\n",
    "\n",
    "model = GraphRidershipNet(adj_mat, inp_size, inp_ch_size, t_future, feature_size=data_X_org.shape[1]-3).to(device)\n",
    "model.load_state_dict(torch.load('./models/model_48stations_conv.pth'))\n",
    "model.eval()\n",
    "\n",
    "out_val = model(X_val)"
   ]
  },
  {
   "cell_type": "code",
   "execution_count": null,
   "id": "50c6dd0f",
   "metadata": {
    "scrolled": true
   },
   "outputs": [],
   "source": [
    "summary(model, [300,inp_ch_size,48,48]) "
   ]
  },
  {
   "cell_type": "code",
   "execution_count": null,
   "id": "9600a567",
   "metadata": {},
   "outputs": [],
   "source": [
    "fig = plt.figure(figsize=[20,10])\n",
    "\n",
    "ax1 = fig.add_subplot(121)\n",
    "ax1.imshow(out_val.cpu().detach().numpy().sum(axis=0)[0,:,:])\n",
    "ax1.set_title('Predicted OD')\n",
    "\n",
    "ax2 = fig.add_subplot(122)\n",
    "ax2.imshow(y_val.cpu().detach().numpy().sum(axis=0)[0,:,:])\n",
    "ax2.set_title('Real OD')"
   ]
  },
  {
   "cell_type": "code",
   "execution_count": null,
   "id": "6a626c5f",
   "metadata": {},
   "outputs": [],
   "source": [
    "# Input the data from the Bay area to evaluate\n",
    "# whether the model is practical"
   ]
  },
  {
   "cell_type": "code",
   "execution_count": null,
   "id": "36bbaaa6",
   "metadata": {},
   "outputs": [],
   "source": [
    "y_val.cpu().detach().numpy().sum(axis=0).shape"
   ]
  },
  {
   "cell_type": "code",
   "execution_count": null,
   "id": "9f5995d8",
   "metadata": {},
   "outputs": [],
   "source": [
    "pred = out_val.cpu().detach().numpy().sum(axis=0)\n",
    "labels = y_val.cpu().detach().numpy().sum(axis=0)\n",
    "\n",
    "m = 0.\n",
    "\n",
    "print('The mae loss is %.4f'%dgu.mae_loss_func(pred, labels, m))\n",
    "print('The mape loss is %.4f'%dgu.mape_loss_func(pred, labels, m))\n",
    "print('The smape loss is %.4f'%dgu.smape_loss_func(pred, labels, m))\n",
    "print('The nrmse loss is %.4f'%dgu.nrmse_loss_func(pred, labels, m))\n",
    "print('The nmae loss is %.4f'%dgu.nmae_loss_func(pred, labels, m))\n",
    "\n"
   ]
  },
  {
   "cell_type": "markdown",
   "id": "a1a329c2",
   "metadata": {},
   "source": [
    "# Visualization of trips on map"
   ]
  },
  {
   "cell_type": "code",
   "execution_count": null,
   "id": "3f4622e5",
   "metadata": {},
   "outputs": [],
   "source": [
    "import geopandas as gpd"
   ]
  },
  {
   "cell_type": "code",
   "execution_count": null,
   "id": "4343da98",
   "metadata": {},
   "outputs": [],
   "source": [
    "data_X_all = gpd.read_file('./data/data_X_all.shp')"
   ]
  },
  {
   "cell_type": "code",
   "execution_count": null,
   "id": "78c6a0cc",
   "metadata": {},
   "outputs": [],
   "source": [
    "data_X_all.head(2)"
   ]
  },
  {
   "cell_type": "code",
   "execution_count": null,
   "id": "662c4435",
   "metadata": {},
   "outputs": [],
   "source": [
    "bart_coor = pd.read_csv('./data/station-coor.csv', index_col=0)\n",
    "bart_coor.head(2)"
   ]
  },
  {
   "cell_type": "code",
   "execution_count": null,
   "id": "a124878b",
   "metadata": {
    "scrolled": false
   },
   "outputs": [],
   "source": [
    "pred = out_val.cpu().detach().numpy().sum(axis=0)[0, :, :]\n",
    "labels = y_val.cpu().detach().numpy().sum(axis=0)[0, :, :]\n",
    "\n",
    "fig = plt.figure(figsize=[20, 10], dpi=75)\n",
    "ax0 = fig.add_subplot(121)\n",
    "ax0.set_title('Prediction')\n",
    "ax1 = fig.add_subplot(122)\n",
    "ax1.set_title('Ground Truth')\n",
    "\n",
    "data_X_all.plot(column='TotPop', ax=ax0, cmap='RdPu')\n",
    "data_X_all.plot(column='TotPop', ax=ax1, cmap='RdPu')\n",
    "\n",
    "# plot trips\n",
    "num_pred_stations = pred.shape[0] // 50  # 50 means that there are 50 stations in total\n",
    "pred_stations = stops.iloc[-num_pred_stations:, 0]\n",
    "\n",
    "low_lon_pred_dest = []\n",
    "low_lat_pred_dest = []\n",
    "mid_lon_pred_dest = []\n",
    "mid_lat_pred_dest = []\n",
    "high_lon_pred_dest = []\n",
    "high_lat_pred_dest = []\n",
    "low_lon_pred_origin = []\n",
    "low_lat_pred_origin = []\n",
    "mid_lon_pred_origin = []\n",
    "mid_lat_pred_origin = []\n",
    "high_lon_pred_origin = []\n",
    "high_lat_pred_origin = []\n",
    "\n",
    "low_lon_labels_dest = []\n",
    "low_lat_labels_dest = []\n",
    "mid_lon_labels_dest = []\n",
    "mid_lat_labels_dest = []\n",
    "high_lon_labels_dest = []\n",
    "high_lat_labels_dest = []\n",
    "low_lon_labels_origin = []\n",
    "low_lat_labels_origin = []\n",
    "mid_lon_labels_origin = []\n",
    "mid_lat_labels_origin = []\n",
    "high_lon_labels_origin = []\n",
    "high_lat_labels_origin = []\n",
    "\n",
    "for i in pred_stations.index:\n",
    "    station_dest = pred_stations.loc[i]\n",
    "    for j in stops.index:\n",
    "        station_origin = stops.loc[j, 'stop']\n",
    "        \n",
    "        lon_origin = bart_coor.loc[bart_coor['abbr']==station_origin, 'lon'].values[0]\n",
    "        lat_origin = bart_coor.loc[bart_coor['abbr']==station_origin, 'lat'].values[0]\n",
    "        lon_dest = bart_coor.loc[bart_coor['abbr']==station_dest, 'lon'].values[0]\n",
    "        lat_dest = bart_coor.loc[bart_coor['abbr']==station_dest, 'lat'].values[0]\n",
    "        \n",
    "        dest_ind = i\n",
    "        origin_ind = j\n",
    "        \n",
    "        if pred[origin_ind, dest_ind]-pred.min()<(pred.max()-pred.min())*0.3:\n",
    "            low_lon_pred_dest.append(lon_dest)\n",
    "            low_lat_pred_dest.append(lat_dest)\n",
    "            low_lon_pred_origin.append(lon_origin)\n",
    "            low_lat_pred_origin.append(lat_origin)\n",
    "#             ax0.plot([lon_origin, lon_dest], [lat_origin, lat_dest], 'b', lw=0.1)\n",
    "        elif pred[origin_ind, dest_ind]-pred.min()>=(pred.max()-pred.min())*0.3 and pred[origin_ind, dest_ind]-pred.min()<(pred.max()-pred.min())*0.6:\n",
    "            mid_lon_pred_dest.append(lon_dest)\n",
    "            mid_lat_pred_dest.append(lat_dest)\n",
    "            mid_lon_pred_origin.append(lon_origin)\n",
    "            mid_lat_pred_origin.append(lat_origin)\n",
    "#             ax0.plot([lon_origin, lon_dest], [lat_origin, lat_dest], 'red', lw=0.6)\n",
    "        elif pred[origin_ind, dest_ind]-pred.min()>=(pred.max()-pred.min())*0.6:\n",
    "            high_lon_pred_dest.append(lon_dest)\n",
    "            high_lat_pred_dest.append(lat_dest)\n",
    "            high_lon_pred_origin.append(lon_origin)\n",
    "            high_lat_pred_origin.append(lat_origin)\n",
    "#             ax0.plot([lon_origin, lon_dest], [lat_origin, lat_dest], 'yellow', lw=2)\n",
    "        \n",
    "        if labels[origin_ind, dest_ind]-labels.min()<(labels.max()-labels.min())*0.3:\n",
    "            low_lon_labels_dest.append(lon_dest)\n",
    "            low_lat_labels_dest.append(lat_dest)\n",
    "            low_lon_labels_origin.append(lon_origin)\n",
    "            low_lat_labels_origin.append(lat_origin)\n",
    "#             ax1.plot([lon_origin, lon_dest], [lat_origin, lat_dest], 'b', lw=0.1)\n",
    "        elif labels[origin_ind, dest_ind]-labels.min()>=(labels.max()-labels.min())*0.3 and labels[origin_ind, dest_ind]-labels.min()<(labels.max()-labels.min())*0.6:\n",
    "            mid_lon_labels_dest.append(lon_dest)\n",
    "            mid_lat_labels_dest.append(lat_dest)\n",
    "            mid_lon_labels_origin.append(lon_origin)\n",
    "            mid_lat_labels_origin.append(lat_origin)\n",
    "#             ax1.plot([lon_origin, lon_dest], [lat_origin, lat_dest], 'red', lw=0.6)\n",
    "        elif labels[origin_ind, dest_ind]-labels.min()>=(labels.max()-labels.min())*0.6:\n",
    "            high_lon_labels_dest.append(lon_dest)\n",
    "            high_lat_labels_dest.append(lat_dest)\n",
    "            high_lon_labels_origin.append(lon_origin)\n",
    "            high_lat_labels_origin.append(lat_origin)\n",
    "#             ax1.plot([lon_origin, lon_dest], [lat_origin, lat_dest], 'yellow', lw=2)\n",
    "\n",
    "for i in range(len(low_lon_pred_dest)):\n",
    "    ax0.plot([low_lon_pred_origin[i], low_lon_pred_dest[i]], [low_lat_pred_origin[i], low_lat_pred_dest[i]], 'b', lw=0.3)\n",
    "    \n",
    "for i in range(len(mid_lon_pred_dest)):\n",
    "    ax0.plot([mid_lon_pred_origin[i], mid_lon_pred_dest[i]], [mid_lat_pred_origin[i], mid_lat_pred_dest[i]], 'red', lw=1)\n",
    "    \n",
    "for i in range(len(high_lon_pred_dest)):\n",
    "    ax0.plot([high_lon_pred_origin[i], high_lon_pred_dest[i]], [high_lat_pred_origin[i], high_lat_pred_dest[i]], 'yellow', lw=1.5)\n",
    "\n",
    "for i in range(len(low_lon_labels_dest)):\n",
    "    ax1.plot([low_lon_labels_origin[i], low_lon_labels_dest[i]], [low_lat_labels_origin[i], low_lat_labels_dest[i]], 'b', lw=0.3)\n",
    "    \n",
    "for i in range(len(mid_lon_labels_dest)):\n",
    "    ax1.plot([mid_lon_labels_origin[i], mid_lon_labels_dest[i]], [mid_lat_labels_origin[i], mid_lat_labels_dest[i]], 'red', lw=1)\n",
    "    \n",
    "for i in range(len(high_lon_labels_dest)):\n",
    "    ax1.plot([high_lon_labels_origin[i], high_lon_labels_dest[i]], [high_lat_labels_origin[i], high_lat_labels_dest[i]], 'yellow', lw=1.5)\n",
    "\n",
    "\n",
    "\n",
    "# plot stations\n",
    "for i in bart_coor.index:\n",
    "    lon = bart_coor.loc[i, 'lon']\n",
    "    lat = bart_coor.loc[i, 'lat']\n",
    "    ax0.plot(lon, lat, 'r.')\n",
    "    ax1.plot(lon, lat, 'r.')\n",
    "\n"
   ]
  },
  {
   "cell_type": "code",
   "execution_count": null,
   "id": "ddfb1543",
   "metadata": {},
   "outputs": [],
   "source": [
    "# fig.savefig('./outputs/comp.jpg', dpi=700)"
   ]
  }
 ],
 "metadata": {
  "kernelspec": {
   "display_name": "bda_traff",
   "language": "python",
   "name": "bda_traff"
  },
  "language_info": {
   "codemirror_mode": {
    "name": "ipython",
    "version": 3
   },
   "file_extension": ".py",
   "mimetype": "text/x-python",
   "name": "python",
   "nbconvert_exporter": "python",
   "pygments_lexer": "ipython3",
   "version": "3.8.11"
  }
 },
 "nbformat": 4,
 "nbformat_minor": 5
}
